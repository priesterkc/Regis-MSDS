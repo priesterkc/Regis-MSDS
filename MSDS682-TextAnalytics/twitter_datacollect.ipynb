{
 "cells": [
  {
   "cell_type": "code",
   "execution_count": null,
   "metadata": {},
   "outputs": [],
   "source": [
    "import json\n",
    "import os\n",
    "import tweepy\n",
    "import csv\n",
    "import pandas as pd\n",
    "#from datetime import datetime"
   ]
  },
  {
   "cell_type": "code",
   "execution_count": null,
   "metadata": {},
   "outputs": [],
   "source": [
    "os.getcwd()"
   ]
  },
  {
   "cell_type": "code",
   "execution_count": null,
   "metadata": {},
   "outputs": [],
   "source": [
    "api_key_file = r\"C:\\Users\\Nisha\\Documents\\Important\\API_keys.json\"\n",
    "#Important/API_keys.json"
   ]
  },
  {
   "cell_type": "code",
   "execution_count": null,
   "metadata": {},
   "outputs": [],
   "source": [
    "with open(api_key_file, 'r') as file:\n",
    "    keys = json.load(file)"
   ]
  },
  {
   "cell_type": "code",
   "execution_count": null,
   "metadata": {},
   "outputs": [],
   "source": [
    "twitter_auth = keys['twitter']"
   ]
  },
  {
   "cell_type": "code",
   "execution_count": null,
   "metadata": {},
   "outputs": [],
   "source": [
    "consumer_key = twitter_auth['consumer_key']\n",
    "consumer_secret = twitter_auth['consumer_secret']\n",
    "access_token = twitter_auth['access_token']\n",
    "access_token_secret = twitter_auth['access_token_secret']"
   ]
  },
  {
   "cell_type": "code",
   "execution_count": null,
   "metadata": {},
   "outputs": [],
   "source": [
    "auth = tweepy.OAuthHandler(consumer_key, consumer_secret)\n",
    "auth.set_access_token(access_token, access_token_secret)\n",
    "api = tweepy.API(auth,wait_on_rate_limit=True)"
   ]
  },
  {
   "cell_type": "code",
   "execution_count": null,
   "metadata": {},
   "outputs": [],
   "source": [
    "# Open/Create a file to append data\n",
    "csvFile = open('cellprovider_tweets.csv', 'w', encoding='utf-8')\n",
    "\n",
    "#Use csv Writer\n",
    "csvWriter = csv.writer(csvFile)"
   ]
  },
  {
   "cell_type": "code",
   "execution_count": null,
   "metadata": {},
   "outputs": [],
   "source": [
    "providers = {\"@VZWSupport\": \"Verizon\",\n",
    "             \"@ATTCares\": \"AT&T\",\n",
    "             \"@TMobileHelp\": \"T-Mobile\"}"
   ]
  },
  {
   "cell_type": "code",
   "execution_count": null,
   "metadata": {},
   "outputs": [],
   "source": [
    "provider_users = list(providers.keys())"
   ]
  },
  {
   "cell_type": "code",
   "execution_count": null,
   "metadata": {},
   "outputs": [],
   "source": [
    "for provider in provider_users:\n",
    "\n",
    "    for tweet in tweepy.Cursor(api.search,\n",
    "                               q=provider,\n",
    "                               tweet_mode='extended').items():\n",
    "\n",
    "        hashtags = tweet.entities['hashtags']\n",
    "        tags = [hashtags[i]['text'] for i in range(len(hashtags))]\n",
    "\n",
    "\n",
    "        csvWriter.writerow([tweet.id_str, tweet.lang,\n",
    "                          tweet.created_at, tweet.user.name, \n",
    "                          tweet.favorite_count, providers[provider], \n",
    "                          tweet.full_text, tags])\n",
    "    \n",
    "csvFile.close()"
   ]
  }
 ],
 "metadata": {
  "kernelspec": {
   "display_name": "Python 3",
   "language": "python",
   "name": "python3"
  },
  "language_info": {
   "codemirror_mode": {
    "name": "ipython",
    "version": 3
   },
   "file_extension": ".py",
   "mimetype": "text/x-python",
   "name": "python",
   "nbconvert_exporter": "python",
   "pygments_lexer": "ipython3",
   "version": "3.7.3"
  }
 },
 "nbformat": 4,
 "nbformat_minor": 4
}
