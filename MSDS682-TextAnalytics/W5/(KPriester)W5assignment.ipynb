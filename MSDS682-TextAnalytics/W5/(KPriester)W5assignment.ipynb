{
 "cells": [
  {
   "cell_type": "markdown",
   "metadata": {},
   "source": [
    "# Week 5 Assignment\n",
    "\n",
    "## Summary:\n",
    "\n",
    "In this week's assignment, I used the glob library to load in 16 files - each containing tweets from various news media sources, with the full dataset totaling to over 65,000 tweets. The `cleanCorpus` function was modified so that the `spaCy` library would do most of the text processing functions that are usually done with the `NLTK` library. In the beginning of the function, only apostrophes are removed from the tweets so that contractions aren't separated when tokenized (e.g. people's -> people and 's) and can be properly lemmatized later. After converting the text to a `spaCy` object, the function checks if the lemmatization of a word is a pronoun (changed from the actual word to `-PRON-`) and if so, keep the normal text of the word so that it can get properly checked in the stopwords section. If the word is not a pronoun, then it keeps its lemmatized form. Next, the words are checked to see if they are stopwords, retweets, URLs, or usernames (**note**: `spaCy` does tweet tokenization, so URLs and usernames stay together with their prefix (`http` and `@`, respectively). Finally, the rest of the punctuation and double spaces (caused by removing dashes between whitespaces) are removed before adding the cleaned tweet to the `clean_document` list."
   ]
  },
  {
   "cell_type": "code",
   "execution_count": 1,
   "metadata": {},
   "outputs": [],
   "source": [
    "import numpy as np\n",
    "import pandas as pd\n",
    "import string\n",
    "import spacy\n",
    "import matplotlib.pyplot as plt\n",
    "\n",
    "from sklearn.model_selection import train_test_split\n",
    "from sklearn.feature_extraction.text import TfidfVectorizer\n",
    "from sklearn.cluster import KMeans\n",
    "from sklearn.metrics import silhouette_score\n",
    "\n",
    "from nltk.tokenize import word_tokenize\n",
    "from nltk.probability import FreqDist\n",
    "from nltk.corpus import stopwords\n",
    "\n",
    "from glob import iglob\n",
    "\n",
    "en_stopwords = stopwords.words('english')  \n",
    "stopwords = set(en_stopwords)\n",
    "nlp = spacy.load(\"en\")\n",
    "\n",
    "%matplotlib inline"
   ]
  },
  {
   "cell_type": "code",
   "execution_count": 2,
   "metadata": {},
   "outputs": [],
   "source": [
    "#initialize an empty dataframe\n",
    "#empty dataframe will hold all the tweets from all the files\n",
    "healthtweet_df = pd.DataFrame()"
   ]
  },
  {
   "cell_type": "code",
   "execution_count": 3,
   "metadata": {},
   "outputs": [
    {
     "name": "stderr",
     "output_type": "stream",
     "text": [
      "b'Skipping line 846: expected 3 fields, saw 4\\nSkipping line 904: expected 3 fields, saw 4\\nSkipping line 914: expected 3 fields, saw 4\\nSkipping line 1264: expected 3 fields, saw 4\\nSkipping line 1269: expected 3 fields, saw 4\\nSkipping line 1293: expected 3 fields, saw 4\\nSkipping line 1348: expected 3 fields, saw 4\\nSkipping line 1430: expected 3 fields, saw 4\\nSkipping line 1486: expected 3 fields, saw 4\\nSkipping line 1710: expected 3 fields, saw 4\\nSkipping line 2699: expected 3 fields, saw 4\\nSkipping line 2728: expected 3 fields, saw 4\\nSkipping line 3000: expected 3 fields, saw 4\\n'\n",
      "b'Skipping line 1422: expected 3 fields, saw 4\\nSkipping line 1461: expected 3 fields, saw 4\\nSkipping line 1468: expected 3 fields, saw 4\\nSkipping line 1507: expected 3 fields, saw 4\\nSkipping line 1547: expected 3 fields, saw 4\\nSkipping line 1728: expected 3 fields, saw 4\\nSkipping line 1738: expected 3 fields, saw 4\\nSkipping line 1742: expected 3 fields, saw 4\\nSkipping line 1847: expected 3 fields, saw 5\\nSkipping line 2082: expected 3 fields, saw 4\\nSkipping line 2125: expected 3 fields, saw 4\\nSkipping line 3860: expected 3 fields, saw 4\\n'\n",
      "b'Skipping line 638: expected 3 fields, saw 4\\nSkipping line 966: expected 3 fields, saw 4\\nSkipping line 1890: expected 3 fields, saw 4\\nSkipping line 2601: expected 3 fields, saw 4\\nSkipping line 2602: expected 3 fields, saw 4\\nSkipping line 2606: expected 3 fields, saw 4\\nSkipping line 2609: expected 3 fields, saw 4\\nSkipping line 2611: expected 3 fields, saw 4\\nSkipping line 2627: expected 3 fields, saw 4\\nSkipping line 2642: expected 3 fields, saw 4\\nSkipping line 2647: expected 3 fields, saw 4\\nSkipping line 2656: expected 3 fields, saw 4\\nSkipping line 2662: expected 3 fields, saw 4\\nSkipping line 2663: expected 3 fields, saw 4\\nSkipping line 2664: expected 3 fields, saw 4\\nSkipping line 2665: expected 3 fields, saw 4\\nSkipping line 2667: expected 3 fields, saw 4\\nSkipping line 2670: expected 3 fields, saw 4\\n'\n",
      "b'Skipping line 4015: expected 3 fields, saw 4\\nSkipping line 6118: expected 3 fields, saw 4\\nSkipping line 6354: expected 3 fields, saw 4\\nSkipping line 6429: expected 3 fields, saw 4\\nSkipping line 6528: expected 3 fields, saw 4\\nSkipping line 6930: expected 3 fields, saw 4\\nSkipping line 6944: expected 3 fields, saw 4\\nSkipping line 6948: expected 3 fields, saw 4\\nSkipping line 6949: expected 3 fields, saw 4\\nSkipping line 6951: expected 3 fields, saw 5\\nSkipping line 6954: expected 3 fields, saw 4\\nSkipping line 6956: expected 3 fields, saw 4\\nSkipping line 6965: expected 3 fields, saw 4\\nSkipping line 6984: expected 3 fields, saw 4\\nSkipping line 6988: expected 3 fields, saw 4\\nSkipping line 7020: expected 3 fields, saw 4\\nSkipping line 7049: expected 3 fields, saw 4\\nSkipping line 7058: expected 3 fields, saw 4\\nSkipping line 7118: expected 3 fields, saw 4\\nSkipping line 7126: expected 3 fields, saw 4\\nSkipping line 7131: expected 3 fields, saw 4\\nSkipping line 7135: expected 3 fields, saw 4\\nSkipping line 7163: expected 3 fields, saw 4\\nSkipping line 7177: expected 3 fields, saw 4\\nSkipping line 7223: expected 3 fields, saw 4\\nSkipping line 7240: expected 3 fields, saw 4\\nSkipping line 7241: expected 3 fields, saw 4\\nSkipping line 7277: expected 3 fields, saw 4\\nSkipping line 7289: expected 3 fields, saw 4\\nSkipping line 7293: expected 3 fields, saw 4\\nSkipping line 7320: expected 3 fields, saw 4\\nSkipping line 7327: expected 3 fields, saw 4\\nSkipping line 7334: expected 3 fields, saw 4\\nSkipping line 7338: expected 3 fields, saw 4\\nSkipping line 7345: expected 3 fields, saw 4\\nSkipping line 7374: expected 3 fields, saw 4\\nSkipping line 7380: expected 3 fields, saw 4\\nSkipping line 7383: expected 3 fields, saw 4\\nSkipping line 7392: expected 3 fields, saw 4\\nSkipping line 7409: expected 3 fields, saw 4\\nSkipping line 7412: expected 3 fields, saw 4\\nSkipping line 7418: expected 3 fields, saw 4\\nSkipping line 7422: expected 3 fields, saw 4\\nSkipping line 7427: expected 3 fields, saw 4\\nSkipping line 7439: expected 3 fields, saw 4\\nSkipping line 7446: expected 3 fields, saw 4\\nSkipping line 7447: expected 3 fields, saw 4\\nSkipping line 7458: expected 3 fields, saw 4\\nSkipping line 7484: expected 3 fields, saw 4\\nSkipping line 7498: expected 3 fields, saw 4\\nSkipping line 7502: expected 3 fields, saw 4\\nSkipping line 7505: expected 3 fields, saw 4\\nSkipping line 7512: expected 3 fields, saw 4\\nSkipping line 7537: expected 3 fields, saw 4\\nSkipping line 7538: expected 3 fields, saw 4\\nSkipping line 7544: expected 3 fields, saw 4\\nSkipping line 7552: expected 3 fields, saw 4\\nSkipping line 7572: expected 3 fields, saw 4\\nSkipping line 7573: expected 3 fields, saw 4\\nSkipping line 7588: expected 3 fields, saw 4\\nSkipping line 7647: expected 3 fields, saw 4\\nSkipping line 7664: expected 3 fields, saw 4\\nSkipping line 7670: expected 3 fields, saw 4\\nSkipping line 7691: expected 3 fields, saw 4\\nSkipping line 7715: expected 3 fields, saw 4\\nSkipping line 7746: expected 3 fields, saw 4\\nSkipping line 7755: expected 3 fields, saw 4\\nSkipping line 7769: expected 3 fields, saw 4\\nSkipping line 7775: expected 3 fields, saw 4\\n'\n",
      "b'Skipping line 523: expected 3 fields, saw 4\\n'\n",
      "b'Skipping line 71: expected 3 fields, saw 4\\nSkipping line 88: expected 3 fields, saw 4\\nSkipping line 130: expected 3 fields, saw 4\\nSkipping line 145: expected 3 fields, saw 4\\nSkipping line 257: expected 3 fields, saw 4\\nSkipping line 272: expected 3 fields, saw 4\\nSkipping line 325: expected 3 fields, saw 4\\nSkipping line 401: expected 3 fields, saw 4\\nSkipping line 412: expected 3 fields, saw 4\\nSkipping line 426: expected 3 fields, saw 4\\nSkipping line 507: expected 3 fields, saw 4\\nSkipping line 813: expected 3 fields, saw 4\\nSkipping line 1319: expected 3 fields, saw 4\\nSkipping line 1576: expected 3 fields, saw 4\\nSkipping line 1592: expected 3 fields, saw 4\\nSkipping line 1686: expected 3 fields, saw 4\\nSkipping line 1929: expected 3 fields, saw 4\\nSkipping line 2019: expected 3 fields, saw 4\\nSkipping line 2359: expected 3 fields, saw 4\\nSkipping line 2438: expected 3 fields, saw 4\\nSkipping line 2679: expected 3 fields, saw 4\\nSkipping line 2680: expected 3 fields, saw 4\\nSkipping line 2681: expected 3 fields, saw 4\\nSkipping line 3098: expected 3 fields, saw 4\\nSkipping line 3380: expected 3 fields, saw 4\\nSkipping line 3723: expected 3 fields, saw 4\\nSkipping line 4013: expected 3 fields, saw 4\\nSkipping line 4024: expected 3 fields, saw 4\\nSkipping line 4026: expected 3 fields, saw 4\\nSkipping line 4181: expected 3 fields, saw 4\\nSkipping line 4283: expected 3 fields, saw 4\\nSkipping line 4305: expected 3 fields, saw 4\\nSkipping line 4403: expected 3 fields, saw 4\\nSkipping line 4443: expected 3 fields, saw 4\\nSkipping line 4475: expected 3 fields, saw 4\\nSkipping line 4576: expected 3 fields, saw 4\\nSkipping line 4636: expected 3 fields, saw 4\\nSkipping line 4661: expected 3 fields, saw 4\\nSkipping line 4739: expected 3 fields, saw 4\\nSkipping line 4780: expected 3 fields, saw 4\\nSkipping line 4782: expected 3 fields, saw 4\\nSkipping line 4783: expected 3 fields, saw 4\\nSkipping line 4798: expected 3 fields, saw 4\\nSkipping line 4805: expected 3 fields, saw 4\\nSkipping line 4816: expected 3 fields, saw 4\\nSkipping line 4905: expected 3 fields, saw 4\\nSkipping line 4922: expected 3 fields, saw 4\\nSkipping line 4954: expected 3 fields, saw 4\\nSkipping line 4955: expected 3 fields, saw 4\\nSkipping line 4956: expected 3 fields, saw 4\\nSkipping line 4989: expected 3 fields, saw 4\\nSkipping line 5020: expected 3 fields, saw 4\\nSkipping line 5021: expected 3 fields, saw 4\\nSkipping line 5036: expected 3 fields, saw 4\\nSkipping line 5051: expected 3 fields, saw 4\\nSkipping line 5076: expected 3 fields, saw 4\\nSkipping line 5096: expected 3 fields, saw 4\\nSkipping line 5164: expected 3 fields, saw 4\\nSkipping line 5165: expected 3 fields, saw 4\\nSkipping line 5175: expected 3 fields, saw 4\\nSkipping line 5178: expected 3 fields, saw 4\\nSkipping line 5192: expected 3 fields, saw 4\\nSkipping line 5261: expected 3 fields, saw 4\\nSkipping line 5322: expected 3 fields, saw 4\\nSkipping line 5329: expected 3 fields, saw 4\\nSkipping line 5376: expected 3 fields, saw 4\\nSkipping line 5380: expected 3 fields, saw 4\\nSkipping line 5383: expected 3 fields, saw 4\\nSkipping line 5400: expected 3 fields, saw 4\\nSkipping line 5414: expected 3 fields, saw 4\\nSkipping line 5448: expected 3 fields, saw 4\\nSkipping line 5465: expected 3 fields, saw 4\\nSkipping line 5477: expected 3 fields, saw 4\\nSkipping line 5495: expected 3 fields, saw 4\\nSkipping line 5515: expected 3 fields, saw 4\\nSkipping line 5521: expected 3 fields, saw 4\\nSkipping line 5558: expected 3 fields, saw 4\\nSkipping line 5587: expected 3 fields, saw 4\\nSkipping line 5624: expected 3 fields, saw 4\\nSkipping line 5637: expected 3 fields, saw 4\\nSkipping line 5686: expected 3 fields, saw 4\\nSkipping line 5710: expected 3 fields, saw 4\\nSkipping line 5767: expected 3 fields, saw 4\\nSkipping line 5791: expected 3 fields, saw 4\\nSkipping line 5799: expected 3 fields, saw 4\\nSkipping line 5845: expected 3 fields, saw 4\\nSkipping line 5861: expected 3 fields, saw 4\\nSkipping line 5868: expected 3 fields, saw 4\\nSkipping line 5901: expected 3 fields, saw 4\\nSkipping line 5923: expected 3 fields, saw 4\\nSkipping line 5925: expected 3 fields, saw 4\\nSkipping line 5928: expected 3 fields, saw 4\\nSkipping line 5946: expected 3 fields, saw 4\\nSkipping line 5957: expected 3 fields, saw 4\\nSkipping line 5958: expected 3 fields, saw 4\\nSkipping line 5997: expected 3 fields, saw 4\\nSkipping line 6017: expected 3 fields, saw 4\\nSkipping line 6037: expected 3 fields, saw 4\\n'\n"
     ]
    }
   ],
   "source": [
    "#load in each text file from the Health Tweets folder\n",
    "for file in iglob('Health-Tweets/*.txt'):\n",
    "    \n",
    "    #each file read in as dataframe\n",
    "    df = pd.read_csv(file,\n",
    "                     sep='|',\n",
    "                     header=None,\n",
    "                     error_bad_lines=False,\n",
    "                     encoding='latin-1')\n",
    "    \n",
    "    #single file dataframe is attached to larger dataframe\n",
    "    healthtweet_df = healthtweet_df.append(df, ignore_index=True)"
   ]
  },
  {
   "cell_type": "code",
   "execution_count": 4,
   "metadata": {},
   "outputs": [
    {
     "data": {
      "text/plain": [
       "62817"
      ]
     },
     "execution_count": 4,
     "metadata": {},
     "output_type": "execute_result"
    }
   ],
   "source": [
    "#how many rows (tweets)\n",
    "len(healthtweet_df)"
   ]
  },
  {
   "cell_type": "code",
   "execution_count": 5,
   "metadata": {},
   "outputs": [],
   "source": [
    "#add column headers to the dataframe\n",
    "healthtweet_df.columns = ['ID', 'timestamp', 'tweet']"
   ]
  },
  {
   "cell_type": "code",
   "execution_count": 6,
   "metadata": {},
   "outputs": [
    {
     "data": {
      "text/html": [
       "<div>\n",
       "<style scoped>\n",
       "    .dataframe tbody tr th:only-of-type {\n",
       "        vertical-align: middle;\n",
       "    }\n",
       "\n",
       "    .dataframe tbody tr th {\n",
       "        vertical-align: top;\n",
       "    }\n",
       "\n",
       "    .dataframe thead th {\n",
       "        text-align: right;\n",
       "    }\n",
       "</style>\n",
       "<table border=\"1\" class=\"dataframe\">\n",
       "  <thead>\n",
       "    <tr style=\"text-align: right;\">\n",
       "      <th></th>\n",
       "      <th>ID</th>\n",
       "      <th>timestamp</th>\n",
       "      <th>tweet</th>\n",
       "    </tr>\n",
       "  </thead>\n",
       "  <tbody>\n",
       "    <tr>\n",
       "      <th>0</th>\n",
       "      <td>585978391360221184</td>\n",
       "      <td>Thu Apr 09 01:31:50 +0000 2015</td>\n",
       "      <td>Breast cancer risk test devised http://bbc.in/...</td>\n",
       "    </tr>\n",
       "    <tr>\n",
       "      <th>1</th>\n",
       "      <td>585947808772960257</td>\n",
       "      <td>Wed Apr 08 23:30:18 +0000 2015</td>\n",
       "      <td>GP workload harming care - BMA poll http://bbc...</td>\n",
       "    </tr>\n",
       "    <tr>\n",
       "      <th>2</th>\n",
       "      <td>585947807816650752</td>\n",
       "      <td>Wed Apr 08 23:30:18 +0000 2015</td>\n",
       "      <td>Short people's 'heart risk greater' http://bbc...</td>\n",
       "    </tr>\n",
       "    <tr>\n",
       "      <th>3</th>\n",
       "      <td>585866060991078401</td>\n",
       "      <td>Wed Apr 08 18:05:28 +0000 2015</td>\n",
       "      <td>New approach against HIV 'promising' http://bb...</td>\n",
       "    </tr>\n",
       "    <tr>\n",
       "      <th>4</th>\n",
       "      <td>585794106170839041</td>\n",
       "      <td>Wed Apr 08 13:19:33 +0000 2015</td>\n",
       "      <td>Coalition 'undermined NHS' - doctors http://bb...</td>\n",
       "    </tr>\n",
       "    <tr>\n",
       "      <th>5</th>\n",
       "      <td>585733482413891584</td>\n",
       "      <td>Wed Apr 08 09:18:39 +0000 2015</td>\n",
       "      <td>Review of case against NHS manager http://bbc....</td>\n",
       "    </tr>\n",
       "    <tr>\n",
       "      <th>6</th>\n",
       "      <td>585733481608646657</td>\n",
       "      <td>Wed Apr 08 09:18:39 +0000 2015</td>\n",
       "      <td>VIDEO: 'All day is empty, what am I going to d...</td>\n",
       "    </tr>\n",
       "    <tr>\n",
       "      <th>7</th>\n",
       "      <td>585701601131765761</td>\n",
       "      <td>Wed Apr 08 07:11:58 +0000 2015</td>\n",
       "      <td>VIDEO: 'Overhaul needed' for end-of-life care ...</td>\n",
       "    </tr>\n",
       "    <tr>\n",
       "      <th>8</th>\n",
       "      <td>585620828110397440</td>\n",
       "      <td>Wed Apr 08 01:51:00 +0000 2015</td>\n",
       "      <td>Care for dying 'needs overhaul' http://bbc.in/...</td>\n",
       "    </tr>\n",
       "    <tr>\n",
       "      <th>9</th>\n",
       "      <td>585437294120677376</td>\n",
       "      <td>Tue Apr 07 13:41:42 +0000 2015</td>\n",
       "      <td>VIDEO: NHS: Labour and Tory key policies http:...</td>\n",
       "    </tr>\n",
       "  </tbody>\n",
       "</table>\n",
       "</div>"
      ],
      "text/plain": [
       "                   ID                       timestamp  \\\n",
       "0  585978391360221184  Thu Apr 09 01:31:50 +0000 2015   \n",
       "1  585947808772960257  Wed Apr 08 23:30:18 +0000 2015   \n",
       "2  585947807816650752  Wed Apr 08 23:30:18 +0000 2015   \n",
       "3  585866060991078401  Wed Apr 08 18:05:28 +0000 2015   \n",
       "4  585794106170839041  Wed Apr 08 13:19:33 +0000 2015   \n",
       "5  585733482413891584  Wed Apr 08 09:18:39 +0000 2015   \n",
       "6  585733481608646657  Wed Apr 08 09:18:39 +0000 2015   \n",
       "7  585701601131765761  Wed Apr 08 07:11:58 +0000 2015   \n",
       "8  585620828110397440  Wed Apr 08 01:51:00 +0000 2015   \n",
       "9  585437294120677376  Tue Apr 07 13:41:42 +0000 2015   \n",
       "\n",
       "                                               tweet  \n",
       "0  Breast cancer risk test devised http://bbc.in/...  \n",
       "1  GP workload harming care - BMA poll http://bbc...  \n",
       "2  Short people's 'heart risk greater' http://bbc...  \n",
       "3  New approach against HIV 'promising' http://bb...  \n",
       "4  Coalition 'undermined NHS' - doctors http://bb...  \n",
       "5  Review of case against NHS manager http://bbc....  \n",
       "6  VIDEO: 'All day is empty, what am I going to d...  \n",
       "7  VIDEO: 'Overhaul needed' for end-of-life care ...  \n",
       "8  Care for dying 'needs overhaul' http://bbc.in/...  \n",
       "9  VIDEO: NHS: Labour and Tory key policies http:...  "
      ]
     },
     "execution_count": 6,
     "metadata": {},
     "output_type": "execute_result"
    }
   ],
   "source": [
    "#verify dataframe contents\n",
    "healthtweet_df.head(10)"
   ]
  },
  {
   "cell_type": "code",
   "execution_count": 7,
   "metadata": {},
   "outputs": [],
   "source": [
    "#convert \"tweet\" column into a list\n",
    "healthtweet_ls = healthtweet_df['tweet'].to_list()"
   ]
  },
  {
   "cell_type": "code",
   "execution_count": 8,
   "metadata": {},
   "outputs": [],
   "source": [
    "\"\"\"\n",
    "This function will return a list (clean_document) that contains each document (tweet) as a string after making the text lowercase, removing aspotrophes, \n",
    "converting into a spaCy object (tokenizing), lemmatizing the words, removing stopwords and Twitter-related extras, rejoining as a string,\n",
    "then removing all remaining punctuation, numbers, and double white spaces. The final string product is then added to the 'clean_document' list.\n",
    "\"\"\"\n",
    "\n",
    "#function to lowercase, remove punctuation/digits, tokenize (split into words), and remove stopwords\n",
    "def cleanCorpus(corpus):\n",
    "    \n",
    "    clean_document = []\n",
    "    \n",
    "    for doc in corpus:\n",
    "        \"\"\"\n",
    "        stopwords (list) has split contractions in it\n",
    "        \"\"\"\n",
    "        #apostrophes to look for\n",
    "        #so words like \"people's\" don't become \"people\" and \"'s\"\n",
    "        table = str.maketrans({key: None for key in \"'\" + \"‘\" + \"’\"})\n",
    "        \n",
    "        #string w/o apostrophe                    \n",
    "        no_apos_str = doc.translate(table).lower()\n",
    "        \n",
    "        #make tweet into a spaCy object\n",
    "        nlpdoc = nlp(no_apos_str)\n",
    "        \n",
    "        #holds words that are lemmatized, with tweet stuff (http, URLs, and @user) removed\n",
    "        clean_lemmals = []\n",
    "        \n",
    "        \n",
    "        for token in nlpdoc:\n",
    "            \n",
    "            #check to see if lemma is \"-PRON-\"\n",
    "            #needs to stay in normal text form to get checked as a stopword\n",
    "            if token.lemma_ == '-PRON-':\n",
    "                token_lem = token.text\n",
    "            else:\n",
    "            #lemmatize the word\n",
    "                token_lem = token.lemma_\n",
    "            \n",
    "            #check for stopwords, retweets (\"RT\"), URLs, or users (@username)\n",
    "            if (token_lem in stopwords) or (token_lem == \"rt\") or (token_lem.startswith((\"http\",'@'))): pass\n",
    "            \n",
    "            else: clean_lemmals.append(token_lem)\n",
    "                \n",
    "        \n",
    "        #join list of cleaned words together into one string\n",
    "        clean_str = \" \".join(clean_lemmals)  \n",
    "\n",
    "        #remove rest of punctuation and digits\n",
    "        #didn't do earlier b/c I didn't want @ removed\n",
    "        table = str.maketrans({key: None for key in string.punctuation + string.digits + \"¦\"})\n",
    "        nopunct_digits = clean_str.translate(table)\n",
    "        rmv_ws = nopunct_digits.replace(\"  \", \" \")\n",
    "    \n",
    "        #add string of the cleaned tweet to this list\n",
    "        clean_document.append(rmv_ws)\n",
    "        \n",
    "\n",
    "    #confirmation that all documents are finished with text cleaning process\n",
    "    print(\"Corpus is clean.\")\n",
    "    \n",
    "    #returned output is a list with each document item from corpus as a string\n",
    "    return clean_document"
   ]
  },
  {
   "cell_type": "code",
   "execution_count": 9,
   "metadata": {},
   "outputs": [
    {
     "name": "stdout",
     "output_type": "stream",
     "text": [
      "Corpus is clean.\n"
     ]
    }
   ],
   "source": [
    "#run the cleanCorpus function\n",
    "cleanhealth_ls = cleanCorpus(healthtweet_ls)"
   ]
  },
  {
   "cell_type": "markdown",
   "metadata": {},
   "source": [
    "### TF-IDF\n",
    "\n",
    "After running the `cleanCorpus` function on the dataset, I used the `TfidfVectorizer()` function to convert the cleaned tweet data into a matrix, where each row is a tweet and the columns are the terms from all the tweets. The total number of terms in the matrix is 22,254 words."
   ]
  },
  {
   "cell_type": "code",
   "execution_count": 10,
   "metadata": {},
   "outputs": [],
   "source": [
    "#save TF-IDF vectorizer into a variable\n",
    "tfidfvec = TfidfVectorizer()"
   ]
  },
  {
   "cell_type": "code",
   "execution_count": 11,
   "metadata": {},
   "outputs": [],
   "source": [
    "#make a TF-IDF matrix from the text data\n",
    "twt_mtx = tfidfvec.fit_transform(cleanhealth_ls)"
   ]
  },
  {
   "cell_type": "code",
   "execution_count": 12,
   "metadata": {},
   "outputs": [
    {
     "data": {
      "text/plain": [
       "(62817, 22259)"
      ]
     },
     "execution_count": 12,
     "metadata": {},
     "output_type": "execute_result"
    }
   ],
   "source": [
    "#dimensions of the matrix\n",
    "twt_mtx.shape"
   ]
  },
  {
   "cell_type": "markdown",
   "metadata": {},
   "source": [
    "### KMeans\n",
    "\n",
    "Using the K-Means function with 10 clusters initialized and randomized data, I fit the data into the model and used the `predict` function to produce the cluster assignment for each tweet. Then using the `silhouette_score` function in combination with the TF-IDF matrix and cluster prediction assignments, I calculated the silhouette score for the 10 cluster K-Means model."
   ]
  },
  {
   "cell_type": "code",
   "execution_count": 13,
   "metadata": {},
   "outputs": [],
   "source": [
    "#save the KMeans algorithm into a variable\n",
    "#initialized with 10 clusters and randomize the data\n",
    "kmeans10 = KMeans(n_clusters=10, random_state=10)"
   ]
  },
  {
   "cell_type": "code",
   "execution_count": 14,
   "metadata": {},
   "outputs": [
    {
     "data": {
      "text/plain": [
       "KMeans(algorithm='auto', copy_x=True, init='k-means++', max_iter=300,\n",
       "    n_clusters=10, n_init=10, n_jobs=None, precompute_distances='auto',\n",
       "    random_state=10, tol=0.0001, verbose=0)"
      ]
     },
     "execution_count": 14,
     "metadata": {},
     "output_type": "execute_result"
    }
   ],
   "source": [
    "#build the model with the data\n",
    "kmeans10.fit(twt_mtx)"
   ]
  },
  {
   "cell_type": "code",
   "execution_count": 15,
   "metadata": {},
   "outputs": [],
   "source": [
    "#predict which clusters the tweets belong to\n",
    "cluster_pred = kmeans10.predict(twt_mtx)"
   ]
  },
  {
   "cell_type": "code",
   "execution_count": 16,
   "metadata": {},
   "outputs": [
    {
     "data": {
      "text/plain": [
       "array([0, 0, 0, 1, 0])"
      ]
     },
     "execution_count": 16,
     "metadata": {},
     "output_type": "execute_result"
    }
   ],
   "source": [
    "#verify first 5 data points' cluster assignments\n",
    "cluster_pred[:5]"
   ]
  },
  {
   "cell_type": "code",
   "execution_count": 17,
   "metadata": {},
   "outputs": [
    {
     "name": "stdout",
     "output_type": "stream",
     "text": [
      "For 10 clusters, the average silhouette score is: 0.007501837023813563\n"
     ]
    }
   ],
   "source": [
    "#get the silhouette score for the model    \n",
    "sil_avg = silhouette_score(twt_mtx, cluster_pred)\n",
    "\n",
    "print(f\"For 10 clusters, the average silhouette score is: {sil_avg}\")"
   ]
  },
  {
   "cell_type": "markdown",
   "metadata": {},
   "source": [
    "### Top Terms\n",
    "\n",
    "First, I (separatedly) gathered the tweets that were assigned to Cluster 0 & 3, and then used the `FreqDist` and `.most_common()` functions to get the top 10 words in those clusters. After verifying the results, I ran a loop to get the top 5 words for each cluster in the K-Means model assignment output."
   ]
  },
  {
   "cell_type": "code",
   "execution_count": 18,
   "metadata": {},
   "outputs": [
    {
     "data": {
      "text/plain": [
       "array(['breast cancer risk test devise', 'gp workload harm care bma poll',\n",
       "       'short people heart risk great', 'coalition undermine nhs doctor',\n",
       "       'review case nhs manager'], dtype='<U9509')"
      ]
     },
     "execution_count": 18,
     "metadata": {},
     "output_type": "execute_result"
    }
   ],
   "source": [
    "#get the tweets that were assigned to Cluster 0\n",
    "#verify the first 5 tweets in the cluster\n",
    "c0twt = np.array(cleanhealth_ls)[cluster_pred == 0]\n",
    "c0twt[:5]"
   ]
  },
  {
   "cell_type": "code",
   "execution_count": 19,
   "metadata": {},
   "outputs": [
    {
     "data": {
      "text/plain": [
       "[('cancer', 1529),\n",
       " ('us', 1468),\n",
       " ('drug', 1324),\n",
       " ('nhs', 1227),\n",
       " ('food', 1204),\n",
       " ('help', 1048),\n",
       " ('patient', 1024),\n",
       " ('good', 990),\n",
       " ('doctor', 978),\n",
       " ('hospital', 914)]"
      ]
     },
     "execution_count": 19,
     "metadata": {},
     "output_type": "execute_result"
    }
   ],
   "source": [
    "#create a frequency distribution of the tweets in Cluster 0\n",
    "#get top 10 words in Cluster 0\n",
    "wordcount = FreqDist(word_tokenize(' '.join(c0twt)))\n",
    "wordcount.most_common(10)\n",
    "#us is U.S. (periods were removed after stopword cleanup)"
   ]
  },
  {
   "cell_type": "code",
   "execution_count": 20,
   "metadata": {},
   "outputs": [
    {
     "data": {
      "text/plain": [
       "array(['treat nhs whistleblower well mps', ' needle well one',\n",
       "       'well sex  dementia care call',\n",
       "       'well hospital food may become law',\n",
       "       'british ebola patient pretty well'], dtype='<U9509')"
      ]
     },
     "execution_count": 20,
     "metadata": {},
     "output_type": "execute_result"
    }
   ],
   "source": [
    "#get the tweets that were assigned to Cluster 3\n",
    "#verify the first 5 tweets in the cluster\n",
    "c3twt = np.array(cleanhealth_ls)[cluster_pred == 3]\n",
    "c3twt[:5]"
   ]
  },
  {
   "cell_type": "code",
   "execution_count": 21,
   "metadata": {},
   "outputs": [
    {
     "data": {
      "text/plain": [
       "[('well', 2006),\n",
       " ('may', 130),\n",
       " ('doctor', 119),\n",
       " ('health', 113),\n",
       " ('cancer', 113),\n",
       " ('ask', 112),\n",
       " ('exercise', 84),\n",
       " ('get', 83),\n",
       " ('patient', 74),\n",
       " ('risk', 74)]"
      ]
     },
     "execution_count": 21,
     "metadata": {},
     "output_type": "execute_result"
    }
   ],
   "source": [
    "#create a frequency distribution of the tweets in Cluster 3\n",
    "#get top 10 words in Cluster 3\n",
    "wordcount3 = FreqDist(word_tokenize(' '.join(c3twt)))\n",
    "wordcount3.most_common(10)"
   ]
  },
  {
   "cell_type": "code",
   "execution_count": 22,
   "metadata": {},
   "outputs": [
    {
     "name": "stdout",
     "output_type": "stream",
     "text": [
      "The Top 5 words in Cluster 0:\n",
      "cancer\n",
      "us\n",
      "drug\n",
      "nhs\n",
      "food\n",
      "\n",
      "\n",
      "The Top 5 words in Cluster 1:\n",
      "new\n",
      "old\n",
      "age\n",
      "blog\n",
      "york\n",
      "\n",
      "\n",
      "The Top 5 words in Cluster 2:\n",
      "health\n",
      "law\n",
      "care\n",
      "insurance\n",
      "mental\n",
      "\n",
      "\n",
      "The Top 5 words in Cluster 3:\n",
      "well\n",
      "may\n",
      "doctor\n",
      "health\n",
      "cancer\n",
      "\n",
      "\n",
      "The Top 5 words in Cluster 4:\n",
      "get\n",
      "health\n",
      "way\n",
      "help\n",
      "new\n",
      "\n",
      "\n",
      "The Top 5 words in Cluster 5:\n",
      "make\n",
      "weight\n",
      "lose\n",
      "loss\n",
      "help\n",
      "\n",
      "\n",
      "The Top 5 words in Cluster 6:\n",
      "say\n",
      "study\n",
      "ebola\n",
      "health\n",
      "us\n",
      "\n",
      "\n",
      "The Top 5 words in Cluster 7:\n",
      "may\n",
      "help\n",
      "risk\n",
      "study\n",
      "cancer\n",
      "\n",
      "\n",
      "The Top 5 words in Cluster 8:\n",
      "study\n",
      "find\n",
      "cancer\n",
      "risk\n",
      "drug\n",
      "\n",
      "\n",
      "The Top 5 words in Cluster 9:\n",
      "ebola\n",
      "us\n",
      "patient\n",
      "outbreak\n",
      "africa\n",
      "\n",
      "\n"
     ]
    }
   ],
   "source": [
    "#print the top 5 words for each cluster from the KMeans model (10 clusters)\n",
    "\n",
    "k10cluster_labels = list(set(cluster_pred))\n",
    "\n",
    "for cluster_label in k10cluster_labels:\n",
    "    \n",
    "    cluster_tweets = np.array(cleanhealth_ls)[cluster_pred == cluster_label]\n",
    "    \n",
    "    top5 = FreqDist(word_tokenize(' '.join(cluster_tweets))).most_common(5)\n",
    "    \n",
    "    print(f\"The Top 5 words in Cluster {cluster_label}:\")\n",
    "    \n",
    "    for word in top5:\n",
    "        print(word[0])\n",
    "        \n",
    "    print(\"\\n\")"
   ]
  },
  {
   "cell_type": "markdown",
   "metadata": {},
   "source": [
    "### Optimal Clusters\n",
    "\n",
    "Based on the silhouette score for the 10 cluster K-Means model, I looped through a list of numbers to represent 15-20 clusters and produce a silhouette score for each. Then using that same list of numbers, I also calculated the WSS score and plotted it as an Elbow Curve to see the trend of possible optimal clusters for this dataset."
   ]
  },
  {
   "cell_type": "code",
   "execution_count": 23,
   "metadata": {},
   "outputs": [],
   "source": [
    "#create a list of numbers 15-20\n",
    "#will use to evaluate the model with 15-20 clusters\n",
    "cluster_num = list(range(15,21))"
   ]
  },
  {
   "cell_type": "code",
   "execution_count": 24,
   "metadata": {},
   "outputs": [
    {
     "name": "stdout",
     "output_type": "stream",
     "text": [
      "For 15 clusters, the average silhouette score is: 0.008654045571451968\n",
      "For 16 clusters, the average silhouette score is: 0.008768678766837495\n",
      "For 17 clusters, the average silhouette score is: 0.009404388516385625\n",
      "For 18 clusters, the average silhouette score is: 0.010466856753471334\n",
      "For 19 clusters, the average silhouette score is: 0.009476304442323698\n",
      "For 20 clusters, the average silhouette score is: 0.010888852443090374\n"
     ]
    }
   ],
   "source": [
    "#silhouette score of 15-20 clusters\n",
    "\n",
    "for n in cluster_num:\n",
    "    \n",
    "    kmeans = KMeans(n_clusters=n, random_state=10)\n",
    "    \n",
    "    cluster_pred = kmeans.fit_predict(twt_mtx)\n",
    "    \n",
    "    sil_avg = silhouette_score(twt_mtx, cluster_pred)\n",
    "    \n",
    "    print(f\"For {n} clusters, the average silhouette score is: {sil_avg}\")"
   ]
  },
  {
   "cell_type": "code",
   "execution_count": 25,
   "metadata": {},
   "outputs": [],
   "source": [
    "#calculate WSS for 15-20 clusters\n",
    "scores = []\n",
    "\n",
    "for n in cluster_num:\n",
    "    \n",
    "    kmeans = KMeans(n_clusters=n, random_state=10)\n",
    "    \n",
    "    score = kmeans.fit(twt_mtx).score(twt_mtx)\n",
    "    scores.append(score)"
   ]
  },
  {
   "cell_type": "code",
   "execution_count": 26,
   "metadata": {},
   "outputs": [
    {
     "data": {
      "image/png": "[encoded data removed]",
      "text/plain": [
       "<Figure size 432x288 with 1 Axes>"
      ]
     },
     "metadata": {},
     "output_type": "display_data"
    }
   ],
   "source": [
    "#plot Elbow Curve for 15-20 clusters\n",
    "plt.plot(cluster_num,scores)\n",
    "plt.xlabel(\"Number of Clusters\")\n",
    "plt.ylabel(\"Score\")\n",
    "plt.title(\"Elbow Curve\")\n",
    "plt.show()"
   ]
  },
  {
   "cell_type": "code",
   "execution_count": 27,
   "metadata": {},
   "outputs": [
    {
     "data": {
      "text/plain": [
       "[-60818.588940819485,\n",
       " -60741.66522618543,\n",
       " -60637.4822595683,\n",
       " -60478.31723401694,\n",
       " -60528.59707546889,\n",
       " -60380.56102542885]"
      ]
     },
     "execution_count": 27,
     "metadata": {},
     "output_type": "execute_result"
    }
   ],
   "source": [
    "#WSS scores\n",
    "scores"
   ]
  },
  {
   "cell_type": "markdown",
   "metadata": {},
   "source": [
    "## Conclusion:\n",
    "\n",
    "About half of the time for this assignment was spent modifiying the `cleanCorpus` function because stopwords were bypassing the checkpoint (in an earlier version of the function, words were checked as stopwords first then lemmatized but some words didn't become stopwords until after the lemmatization). The other majority was used running the model and seeing in the Top 10 list that some stopwords had slipped through. The reason why running the model took more time is because the matrix was computationally expensive and although I attempted to use the `ProcessPoolExecutor()` function, it seems that on my Windows 10 machine I have to add extra functions in a separate script, so I decided to take the time to wait for my computer to finish running the `cleanCorpus` and `.fit()` functions on the data each time I made an adjustment (an estimated 9-11 minutes for each function).\n",
    "\n",
    "However, once I received an acceptable output from the model, calculating the scores was much easier. The silhouette score for the 10 cluster model was not that great (~0.008) and in a test version of the silhouette score of lower numbered clusters (2-7 clusters), I found the scores getting worse and determined that higher scores might trend towards the optimal number of clusters for this dataset. After running the silhouette score for 15-20 clusters, the results showed that by 20 clusters (~0.011 score) the score seemed to be improving, and therefore more clusters would most likely be best for this model. So I also tested this with WSS scores and by looking at the plot for the same number of clusters (15-20), there is an upward trend that supports my earlier findings for more clusters being suited for this dataset. \n",
    "\n",
    "The high number of clusters being optimal for this data is probably due to the number of significant news events that are contained in the dataset. Looking at the common words in Cluster 0, the topic seems to be about the FDA discovering a new drug related to breast cancer. Cluster 3 has words related to a new law involving insurance and mental health. Cluster 8 discusses a case of ebola in a patient in the United States, while Cluster 9 has words regarding the new healthcare related to the National Health Service (in the United Kingdom). With news media outlets reporting big stories on a frequent basis, the number of unique events would most likely surpass 20 topics and would need more clusters to accurately bin them."
   ]
  },
  {
   "cell_type": "markdown",
   "metadata": {},
   "source": [
    "## References:\n",
    "\n",
    "Karami, A. (2018, February 19). Retrieved from https://archive.ics.uci.edu/ml/datasets/Health+News+in+Twitter. Irvine, CA: University of California, School of Information and Computer Science.\n",
    "\n",
    "Selecting the number of clusters with silhouette analysis on KMeans clustering. Retrieved from https://scikit-learn.org/stable/auto_examples/cluster/plot_kmeans_silhouette_analysis.html\n",
    "\n",
    "K-Means Clustering: Analysing City of London Traffic. Retrieved from https://www.michael-grogan.com/k-means-clustering-python-sklearn/"
   ]
  }
 ],
 "metadata": {
  "kernelspec": {
   "display_name": "Python 3",
   "language": "python",
   "name": "python3"
  },
  "language_info": {
   "codemirror_mode": {
    "name": "ipython",
    "version": 3
   },
   "file_extension": ".py",
   "mimetype": "text/x-python",
   "name": "python",
   "nbconvert_exporter": "python",
   "pygments_lexer": "ipython3",
   "version": "3.6.7"
  }
 },
 "nbformat": 4,
 "nbformat_minor": 2
}
