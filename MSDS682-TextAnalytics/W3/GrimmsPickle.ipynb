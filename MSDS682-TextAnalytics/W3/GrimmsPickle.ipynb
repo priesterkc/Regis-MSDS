{
 "cells": [
  {
   "cell_type": "code",
   "execution_count": 33,
   "metadata": {},
   "outputs": [],
   "source": [
    "import os"
   ]
  },
  {
   "cell_type": "code",
   "execution_count": 31,
   "metadata": {},
   "outputs": [],
   "source": [
    "#function to turn a story file into a string\n",
    "def storyString(file):\n",
    "    \n",
    "    #read each line from file\n",
    "    #lines is a list\n",
    "    lines = open(file).read().splitlines()\n",
    "    \n",
    "    linels = []\n",
    "    \n",
    "    for line in lines:\n",
    "        if line == '': pass\n",
    "        \n",
    "        else: linels.append(line)\n",
    "    \n",
    "    clean_str = \" \".join(linels)\n",
    "    \n",
    "    return clean_str"
   ]
  },
  {
   "cell_type": "code",
   "execution_count": 10,
   "metadata": {},
   "outputs": [
    {
     "data": {
      "text/plain": [
       "'THE TWELVE DANCING PRINCESSES There was a king who had twelve beautiful daughters. They slept in twe'"
      ]
     },
     "execution_count": 10,
     "metadata": {},
     "output_type": "execute_result"
    }
   ],
   "source": [
    "#test on one story\n",
    "\n",
    "test_file = 'grimms_tales/12dancingprincesses.txt'\n",
    "\n",
    "princess_text = storyString(test_file)\n",
    "\n",
    "princess_text[:100]"
   ]
  },
  {
   "cell_type": "code",
   "execution_count": 38,
   "metadata": {},
   "outputs": [],
   "source": [
    "filenames = os.listdir('grimms_tales')\n",
    "folderpath = \"grimms_tales/\""
   ]
  },
  {
   "cell_type": "code",
   "execution_count": 43,
   "metadata": {},
   "outputs": [],
   "source": [
    "#take all docs from a directory and make into list\n",
    "\n",
    "def storyList(files, dirpath): \n",
    "    #files is a list made from os.listdir\n",
    "    #dirpath is the location to the folder of all files\n",
    "    \n",
    "    #will hold all docs as list items\n",
    "    corpus = []\n",
    "    \n",
    "    for file in files:\n",
    "        \n",
    "        #make the location path name as a string\n",
    "        location = dirpath + file\n",
    "        \n",
    "        #turn story doc into a full string using storyString function\n",
    "        story = storyString(location)\n",
    "        \n",
    "        #append string-ed doc as item in corpus list\n",
    "        corpus.append(story)\n",
    "        \n",
    "    return corpus"
   ]
  },
  {
   "cell_type": "code",
   "execution_count": 34,
   "metadata": {},
   "outputs": [],
   "source": [
    "#add 6 stories from Grimms' Fairy Tales\n",
    "\n",
    "#wil hold each story as a list\n",
    "all_docs = []\n",
    "\n",
    "for textfile in filenames:\n",
    "    \n",
    "    location = folderpath + textfile\n",
    "    \n",
    "    story = storyString(location)\n",
    "    \n",
    "    all_docs.append(story)"
   ]
  },
  {
   "cell_type": "code",
   "execution_count": null,
   "metadata": {},
   "outputs": [],
   "source": [
    "#pickle the file of stories"
   ]
  },
  {
   "cell_type": "code",
   "execution_count": 29,
   "metadata": {},
   "outputs": [
    {
     "name": "stdout",
     "output_type": "stream",
     "text": [
      "12dancingprincesses.txt\n",
      "catskin.txt\n",
      "fisherman_and_wife.txt\n",
      "frog_prince.txt\n",
      "snowdrop.txt\n",
      "twelve_huntsmen.txt\n"
     ]
    }
   ],
   "source": [
    "for f in filenames:\n",
    "    print(f)"
   ]
  },
  {
   "cell_type": "code",
   "execution_count": 36,
   "metadata": {},
   "outputs": [
    {
     "data": {
      "text/plain": [
       "'CAT-SKIN There was o'"
      ]
     },
     "execution_count": 36,
     "metadata": {},
     "output_type": "execute_result"
    }
   ],
   "source": [
    "all_docs[1][:20]"
   ]
  },
  {
   "cell_type": "code",
   "execution_count": 37,
   "metadata": {},
   "outputs": [
    {
     "data": {
      "text/plain": [
       "6"
      ]
     },
     "execution_count": 37,
     "metadata": {},
     "output_type": "execute_result"
    }
   ],
   "source": [
    "len(all_docs)"
   ]
  },
  {
   "cell_type": "code",
   "execution_count": 44,
   "metadata": {},
   "outputs": [],
   "source": [
    "#this works\n",
    "testls = storyList(filenames, folderpath)"
   ]
  },
  {
   "cell_type": "code",
   "execution_count": 45,
   "metadata": {},
   "outputs": [
    {
     "data": {
      "text/plain": [
       "6"
      ]
     },
     "execution_count": 45,
     "metadata": {},
     "output_type": "execute_result"
    }
   ],
   "source": [
    "len(testls)"
   ]
  },
  {
   "cell_type": "code",
   "execution_count": 46,
   "metadata": {},
   "outputs": [
    {
     "data": {
      "text/plain": [
       "'CAT-SKIN There was o'"
      ]
     },
     "execution_count": 46,
     "metadata": {},
     "output_type": "execute_result"
    }
   ],
   "source": [
    "testls[1][:20]"
   ]
  },
  {
   "cell_type": "code",
   "execution_count": 49,
   "metadata": {},
   "outputs": [],
   "source": [
    "import pickle as pk"
   ]
  },
  {
   "cell_type": "code",
   "execution_count": 50,
   "metadata": {},
   "outputs": [],
   "source": [
    "pk.dump(testls, open(\"testpickle.pk\", \"wb\"))"
   ]
  },
  {
   "cell_type": "code",
   "execution_count": 52,
   "metadata": {},
   "outputs": [],
   "source": [
    "ls = pk.load(open('testpickle.pk', 'rb'))"
   ]
  },
  {
   "cell_type": "code",
   "execution_count": 53,
   "metadata": {},
   "outputs": [
    {
     "data": {
      "text/plain": [
       "6"
      ]
     },
     "execution_count": 53,
     "metadata": {},
     "output_type": "execute_result"
    }
   ],
   "source": [
    "len(ls)"
   ]
  },
  {
   "cell_type": "code",
   "execution_count": null,
   "metadata": {},
   "outputs": [],
   "source": []
  }
 ],
 "metadata": {
  "kernelspec": {
   "display_name": "Python 3",
   "language": "python",
   "name": "python3"
  },
  "language_info": {
   "codemirror_mode": {
    "name": "ipython",
    "version": 3
   },
   "file_extension": ".py",
   "mimetype": "text/x-python",
   "name": "python",
   "nbconvert_exporter": "python",
   "pygments_lexer": "ipython3",
   "version": "3.6.7"
  }
 },
 "nbformat": 4,
 "nbformat_minor": 2
}
