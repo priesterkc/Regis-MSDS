{
 "cells": [
  {
   "cell_type": "markdown",
   "metadata": {},
   "source": [
    "# Week 8 Assignment"
   ]
  },
  {
   "cell_type": "markdown",
   "metadata": {},
   "source": [
    "## Summary:\n",
    "\n",
    "For this week's assignment, I chose the [medical transcriptions dataset from Kaggle](https://www.kaggle.com/tboyle10/medicaltranscriptions). In doing analysis on this data, my focus was to find trends and patterns among the write-ups for each transcription through word frequencies and estimating topic groups. Then I created a predictive model to determine the medical specialty categories for the transcription in the test data set."
   ]
  },
  {
   "cell_type": "code",
   "execution_count": 1,
   "metadata": {
    "collapsed": true
   },
   "outputs": [],
   "source": [
    "import numpy as np\n",
    "import pandas as pd\n",
    "import string\n",
    "import spacy\n",
    "\n",
    "import matplotlib.pyplot as plt\n",
    "from wordcloud import WordCloud\n",
    "import seaborn as sns\n",
    "\n",
    "from sklearn.model_selection import train_test_split\n",
    "from sklearn.feature_extraction.text import TfidfVectorizer, CountVectorizer\n",
    "from sklearn.metrics import silhouette_score\n",
    "from sklearn.metrics import classification_report\n",
    "from sklearn.decomposition import LatentDirichletAllocation\n",
    "from sklearn.naive_bayes import MultinomialNB\n",
    "\n",
    "from nltk.tokenize import word_tokenize\n",
    "from nltk.probability import FreqDist\n",
    "from nltk.probability import ConditionalFreqDist\n",
    "from nltk.corpus import stopwords\n",
    "from nltk.util import ngrams\n",
    "\n",
    "en_stopwords = stopwords.words('english')  \n",
    "stopwords = set(en_stopwords)  #stopwords has split contractions in it\n",
    "nlp = spacy.load(\"en\")\n",
    "\n",
    "%matplotlib inline"
   ]
  },
  {
   "cell_type": "code",
   "execution_count": 2,
   "metadata": {},
   "outputs": [],
   "source": [
    "#set location of data file\n",
    "filename = \"mtsamples.csv\""
   ]
  },
  {
   "cell_type": "code",
   "execution_count": 3,
   "metadata": {},
   "outputs": [],
   "source": [
    "#load in dataset of medical transcriptions as a dataframe\n",
    "df = pd.read_csv(filename)"
   ]
  },
  {
   "cell_type": "code",
   "execution_count": 4,
   "metadata": {},
   "outputs": [
    {
     "data": {
      "text/html": [
       "<div>\n",
       "<style scoped>\n",
       "    .dataframe tbody tr th:only-of-type {\n",
       "        vertical-align: middle;\n",
       "    }\n",
       "\n",
       "    .dataframe tbody tr th {\n",
       "        vertical-align: top;\n",
       "    }\n",
       "\n",
       "    .dataframe thead th {\n",
       "        text-align: right;\n",
       "    }\n",
       "</style>\n",
       "<table border=\"1\" class=\"dataframe\">\n",
       "  <thead>\n",
       "    <tr style=\"text-align: right;\">\n",
       "      <th></th>\n",
       "      <th>Unnamed: 0</th>\n",
       "      <th>description</th>\n",
       "      <th>medical_specialty</th>\n",
       "      <th>sample_name</th>\n",
       "      <th>transcription</th>\n",
       "      <th>keywords</th>\n",
       "    </tr>\n",
       "  </thead>\n",
       "  <tbody>\n",
       "    <tr>\n",
       "      <th>0</th>\n",
       "      <td>0</td>\n",
       "      <td>A 23-year-old white female presents with comp...</td>\n",
       "      <td>Allergy / Immunology</td>\n",
       "      <td>Allergic Rhinitis</td>\n",
       "      <td>SUBJECTIVE:,  This 23-year-old white female pr...</td>\n",
       "      <td>allergy / immunology, allergic rhinitis, aller...</td>\n",
       "    </tr>\n",
       "    <tr>\n",
       "      <th>1</th>\n",
       "      <td>1</td>\n",
       "      <td>Consult for laparoscopic gastric bypass.</td>\n",
       "      <td>Bariatrics</td>\n",
       "      <td>Laparoscopic Gastric Bypass Consult - 2</td>\n",
       "      <td>PAST MEDICAL HISTORY:, He has difficulty climb...</td>\n",
       "      <td>bariatrics, laparoscopic gastric bypass, weigh...</td>\n",
       "    </tr>\n",
       "    <tr>\n",
       "      <th>2</th>\n",
       "      <td>2</td>\n",
       "      <td>Consult for laparoscopic gastric bypass.</td>\n",
       "      <td>Bariatrics</td>\n",
       "      <td>Laparoscopic Gastric Bypass Consult - 1</td>\n",
       "      <td>HISTORY OF PRESENT ILLNESS: , I have seen ABC ...</td>\n",
       "      <td>bariatrics, laparoscopic gastric bypass, heart...</td>\n",
       "    </tr>\n",
       "    <tr>\n",
       "      <th>3</th>\n",
       "      <td>3</td>\n",
       "      <td>2-D M-Mode. Doppler.</td>\n",
       "      <td>Cardiovascular / Pulmonary</td>\n",
       "      <td>2-D Echocardiogram - 1</td>\n",
       "      <td>2-D M-MODE: , ,1.  Left atrial enlargement wit...</td>\n",
       "      <td>cardiovascular / pulmonary, 2-d m-mode, dopple...</td>\n",
       "    </tr>\n",
       "    <tr>\n",
       "      <th>4</th>\n",
       "      <td>4</td>\n",
       "      <td>2-D Echocardiogram</td>\n",
       "      <td>Cardiovascular / Pulmonary</td>\n",
       "      <td>2-D Echocardiogram - 2</td>\n",
       "      <td>1.  The left ventricular cavity size and wall ...</td>\n",
       "      <td>cardiovascular / pulmonary, 2-d, doppler, echo...</td>\n",
       "    </tr>\n",
       "  </tbody>\n",
       "</table>\n",
       "</div>"
      ],
      "text/plain": [
       "   Unnamed: 0                                        description  \\\n",
       "0           0   A 23-year-old white female presents with comp...   \n",
       "1           1           Consult for laparoscopic gastric bypass.   \n",
       "2           2           Consult for laparoscopic gastric bypass.   \n",
       "3           3                             2-D M-Mode. Doppler.     \n",
       "4           4                                 2-D Echocardiogram   \n",
       "\n",
       "             medical_specialty                                sample_name  \\\n",
       "0         Allergy / Immunology                         Allergic Rhinitis    \n",
       "1                   Bariatrics   Laparoscopic Gastric Bypass Consult - 2    \n",
       "2                   Bariatrics   Laparoscopic Gastric Bypass Consult - 1    \n",
       "3   Cardiovascular / Pulmonary                    2-D Echocardiogram - 1    \n",
       "4   Cardiovascular / Pulmonary                    2-D Echocardiogram - 2    \n",
       "\n",
       "                                       transcription  \\\n",
       "0  SUBJECTIVE:,  This 23-year-old white female pr...   \n",
       "1  PAST MEDICAL HISTORY:, He has difficulty climb...   \n",
       "2  HISTORY OF PRESENT ILLNESS: , I have seen ABC ...   \n",
       "3  2-D M-MODE: , ,1.  Left atrial enlargement wit...   \n",
       "4  1.  The left ventricular cavity size and wall ...   \n",
       "\n",
       "                                            keywords  \n",
       "0  allergy / immunology, allergic rhinitis, aller...  \n",
       "1  bariatrics, laparoscopic gastric bypass, weigh...  \n",
       "2  bariatrics, laparoscopic gastric bypass, heart...  \n",
       "3  cardiovascular / pulmonary, 2-d m-mode, dopple...  \n",
       "4  cardiovascular / pulmonary, 2-d, doppler, echo...  "
      ]
     },
     "execution_count": 4,
     "metadata": {},
     "output_type": "execute_result"
    }
   ],
   "source": [
    "#look at first five rows of dataframe\n",
    "df.head()"
   ]
  },
  {
   "cell_type": "code",
   "execution_count": 5,
   "metadata": {},
   "outputs": [
    {
     "data": {
      "text/plain": [
       "Index(['Unnamed: 0', 'description', 'medical_specialty', 'sample_name',\n",
       "       'transcription', 'keywords'],\n",
       "      dtype='object')"
      ]
     },
     "execution_count": 5,
     "metadata": {},
     "output_type": "execute_result"
    }
   ],
   "source": [
    "#list of column names\n",
    "df.columns"
   ]
  },
  {
   "cell_type": "code",
   "execution_count": 6,
   "metadata": {},
   "outputs": [],
   "source": [
    "#remove \"Unnamed: 0\" column from dataframe\n",
    "df.drop('Unnamed: 0', axis=1, inplace=True)"
   ]
  },
  {
   "cell_type": "markdown",
   "metadata": {},
   "source": [
    "### Explore Data\n",
    "\n",
    "After reading in the dataset, I removed the `Unnamed: 0` column which was probably a carryover of an index position label when the creator scraped this dataset. I explored the non-null count distribution by column, the data types for each column, and the distribution of rows (transcriptions) by each category within the `medical-specialty` column. Lastly, I checked the structure of the text from a transcription in order to get a sense of a typical write-up."
   ]
  },
  {
   "cell_type": "code",
   "execution_count": 7,
   "metadata": {},
   "outputs": [
    {
     "data": {
      "text/html": [
       "<div>\n",
       "<style scoped>\n",
       "    .dataframe tbody tr th:only-of-type {\n",
       "        vertical-align: middle;\n",
       "    }\n",
       "\n",
       "    .dataframe tbody tr th {\n",
       "        vertical-align: top;\n",
       "    }\n",
       "\n",
       "    .dataframe thead th {\n",
       "        text-align: right;\n",
       "    }\n",
       "</style>\n",
       "<table border=\"1\" class=\"dataframe\">\n",
       "  <thead>\n",
       "    <tr style=\"text-align: right;\">\n",
       "      <th></th>\n",
       "      <th>description</th>\n",
       "      <th>medical_specialty</th>\n",
       "      <th>sample_name</th>\n",
       "      <th>transcription</th>\n",
       "      <th>keywords</th>\n",
       "    </tr>\n",
       "  </thead>\n",
       "  <tbody>\n",
       "    <tr>\n",
       "      <th>0</th>\n",
       "      <td>A 23-year-old white female presents with comp...</td>\n",
       "      <td>Allergy / Immunology</td>\n",
       "      <td>Allergic Rhinitis</td>\n",
       "      <td>SUBJECTIVE:,  This 23-year-old white female pr...</td>\n",
       "      <td>allergy / immunology, allergic rhinitis, aller...</td>\n",
       "    </tr>\n",
       "    <tr>\n",
       "      <th>1</th>\n",
       "      <td>Consult for laparoscopic gastric bypass.</td>\n",
       "      <td>Bariatrics</td>\n",
       "      <td>Laparoscopic Gastric Bypass Consult - 2</td>\n",
       "      <td>PAST MEDICAL HISTORY:, He has difficulty climb...</td>\n",
       "      <td>bariatrics, laparoscopic gastric bypass, weigh...</td>\n",
       "    </tr>\n",
       "    <tr>\n",
       "      <th>2</th>\n",
       "      <td>Consult for laparoscopic gastric bypass.</td>\n",
       "      <td>Bariatrics</td>\n",
       "      <td>Laparoscopic Gastric Bypass Consult - 1</td>\n",
       "      <td>HISTORY OF PRESENT ILLNESS: , I have seen ABC ...</td>\n",
       "      <td>bariatrics, laparoscopic gastric bypass, heart...</td>\n",
       "    </tr>\n",
       "    <tr>\n",
       "      <th>3</th>\n",
       "      <td>2-D M-Mode. Doppler.</td>\n",
       "      <td>Cardiovascular / Pulmonary</td>\n",
       "      <td>2-D Echocardiogram - 1</td>\n",
       "      <td>2-D M-MODE: , ,1.  Left atrial enlargement wit...</td>\n",
       "      <td>cardiovascular / pulmonary, 2-d m-mode, dopple...</td>\n",
       "    </tr>\n",
       "    <tr>\n",
       "      <th>4</th>\n",
       "      <td>2-D Echocardiogram</td>\n",
       "      <td>Cardiovascular / Pulmonary</td>\n",
       "      <td>2-D Echocardiogram - 2</td>\n",
       "      <td>1.  The left ventricular cavity size and wall ...</td>\n",
       "      <td>cardiovascular / pulmonary, 2-d, doppler, echo...</td>\n",
       "    </tr>\n",
       "  </tbody>\n",
       "</table>\n",
       "</div>"
      ],
      "text/plain": [
       "                                         description  \\\n",
       "0   A 23-year-old white female presents with comp...   \n",
       "1           Consult for laparoscopic gastric bypass.   \n",
       "2           Consult for laparoscopic gastric bypass.   \n",
       "3                             2-D M-Mode. Doppler.     \n",
       "4                                 2-D Echocardiogram   \n",
       "\n",
       "             medical_specialty                                sample_name  \\\n",
       "0         Allergy / Immunology                         Allergic Rhinitis    \n",
       "1                   Bariatrics   Laparoscopic Gastric Bypass Consult - 2    \n",
       "2                   Bariatrics   Laparoscopic Gastric Bypass Consult - 1    \n",
       "3   Cardiovascular / Pulmonary                    2-D Echocardiogram - 1    \n",
       "4   Cardiovascular / Pulmonary                    2-D Echocardiogram - 2    \n",
       "\n",
       "                                       transcription  \\\n",
       "0  SUBJECTIVE:,  This 23-year-old white female pr...   \n",
       "1  PAST MEDICAL HISTORY:, He has difficulty climb...   \n",
       "2  HISTORY OF PRESENT ILLNESS: , I have seen ABC ...   \n",
       "3  2-D M-MODE: , ,1.  Left atrial enlargement wit...   \n",
       "4  1.  The left ventricular cavity size and wall ...   \n",
       "\n",
       "                                            keywords  \n",
       "0  allergy / immunology, allergic rhinitis, aller...  \n",
       "1  bariatrics, laparoscopic gastric bypass, weigh...  \n",
       "2  bariatrics, laparoscopic gastric bypass, heart...  \n",
       "3  cardiovascular / pulmonary, 2-d m-mode, dopple...  \n",
       "4  cardiovascular / pulmonary, 2-d, doppler, echo...  "
      ]
     },
     "execution_count": 7,
     "metadata": {},
     "output_type": "execute_result"
    }
   ],
   "source": [
    "#verify dataframe w/o \"Unnamed: 0\" column\n",
    "df.head()"
   ]
  },
  {
   "cell_type": "code",
   "execution_count": 8,
   "metadata": {},
   "outputs": [
    {
     "data": {
      "text/plain": [
       "description          4999\n",
       "medical_specialty    4999\n",
       "sample_name          4999\n",
       "transcription        4966\n",
       "keywords             3931\n",
       "dtype: int64"
      ]
     },
     "execution_count": 8,
     "metadata": {},
     "output_type": "execute_result"
    }
   ],
   "source": [
    "#get total of non-null values per column\n",
    "df.count()"
   ]
  },
  {
   "cell_type": "code",
   "execution_count": 9,
   "metadata": {},
   "outputs": [
    {
     "data": {
      "text/plain": [
       "description          object\n",
       "medical_specialty    object\n",
       "sample_name          object\n",
       "transcription        object\n",
       "keywords             object\n",
       "dtype: object"
      ]
     },
     "execution_count": 9,
     "metadata": {},
     "output_type": "execute_result"
    }
   ],
   "source": [
    "#show data type of each column\n",
    "df.dtypes"
   ]
  },
  {
   "cell_type": "code",
   "execution_count": 10,
   "metadata": {},
   "outputs": [
    {
     "data": {
      "text/plain": [
       "40"
      ]
     },
     "execution_count": 10,
     "metadata": {},
     "output_type": "execute_result"
    }
   ],
   "source": [
    "#get number of categories in the \"medical_specialty\" column\n",
    "#40 different medical specialty types assigned to the transciptions\n",
    "len(df['medical_specialty'].unique())"
   ]
  },
  {
   "cell_type": "code",
   "execution_count": 11,
   "metadata": {},
   "outputs": [
    {
     "data": {
      "text/plain": [
       " Surgery                          1103\n",
       " Consult - History and Phy.        516\n",
       " Cardiovascular / Pulmonary        372\n",
       " Orthopedic                        355\n",
       " Radiology                         273\n",
       " General Medicine                  259\n",
       " Gastroenterology                  230\n",
       " Neurology                         223\n",
       " SOAP / Chart / Progress Notes     166\n",
       " Obstetrics / Gynecology           160\n",
       " Urology                           158\n",
       " Discharge Summary                 108\n",
       " ENT - Otolaryngology               98\n",
       " Neurosurgery                       94\n",
       " Hematology - Oncology              90\n",
       " Ophthalmology                      83\n",
       " Nephrology                         81\n",
       " Emergency Room Reports             75\n",
       " Pediatrics - Neonatal              70\n",
       " Pain Management                    62\n",
       " Psychiatry / Psychology            53\n",
       " Office Notes                       51\n",
       " Podiatry                           47\n",
       " Dermatology                        29\n",
       " Cosmetic / Plastic Surgery         27\n",
       " Dentistry                          27\n",
       " Letters                            23\n",
       " Physical Medicine - Rehab          21\n",
       " Sleep Medicine                     20\n",
       " Endocrinology                      19\n",
       " Bariatrics                         18\n",
       " IME-QME-Work Comp etc.             16\n",
       " Chiropractic                       14\n",
       " Rheumatology                       10\n",
       " Diets and Nutritions               10\n",
       " Speech - Language                   9\n",
       " Lab Medicine - Pathology            8\n",
       " Autopsy                             8\n",
       " Allergy / Immunology                7\n",
       " Hospice - Palliative Care           6\n",
       "Name: medical_specialty, dtype: int64"
      ]
     },
     "execution_count": 11,
     "metadata": {},
     "output_type": "execute_result"
    }
   ],
   "source": [
    "#frequency of each medical specialty category\n",
    "df['medical_specialty'].value_counts()"
   ]
  },
  {
   "cell_type": "code",
   "execution_count": 12,
   "metadata": {},
   "outputs": [
    {
     "data": {
      "text/plain": [
       "'SUBJECTIVE:,  This 23-year-old white female presents with complaint of allergies.  She used to have allergies when she lived in Seattle but she thinks they are worse here.  In the past, she has tried Claritin, and Zyrtec.  Both worked for short time but then seemed to lose effectiveness.  She has used Allegra also.  She used that last summer and she began using it again two weeks ago.  It does not appear to be working very well.  She has used over-the-counter sprays but no prescription nasal sprays.  She does have asthma but doest not require daily medication for this and does not think it is flaring up.,MEDICATIONS: , Her only medication currently is Ortho Tri-Cyclen and the Allegra.,ALLERGIES: , She has no known medicine allergies.,OBJECTIVE:,Vitals:  Weight was 130 pounds and blood pressure 124/78.,HEENT:  Her throat was mildly erythematous without exudate.  Nasal mucosa was erythematous and swollen.  Only clear drainage was seen.  TMs were clear.,Neck:  Supple without adenopathy.,Lungs:  Clear.,ASSESSMENT:,  Allergic rhinitis.,PLAN:,1.  She will try Zyrtec instead of Allegra again.  Another option will be to use loratadine.  She does not think she has prescription coverage so that might be cheaper.,2.  Samples of Nasonex two sprays in each nostril given for three weeks.  A prescription was written as well.'"
      ]
     },
     "execution_count": 12,
     "metadata": {},
     "output_type": "execute_result"
    }
   ],
   "source": [
    "#explore transcription text of first row in dataframe\n",
    "df.iloc[0]['transcription']"
   ]
  },
  {
   "cell_type": "code",
   "execution_count": 13,
   "metadata": {},
   "outputs": [
    {
     "data": {
      "text/plain": [
       "description           A 23-year-old white female presents with comp...\n",
       "medical_specialty                                 Allergy / Immunology\n",
       "sample_name                                         Allergic Rhinitis \n",
       "transcription        SUBJECTIVE:,  This 23-year-old white female pr...\n",
       "keywords             allergy / immunology, allergic rhinitis, aller...\n",
       "Name: 0, dtype: object"
      ]
     },
     "execution_count": 13,
     "metadata": {},
     "output_type": "execute_result"
    }
   ],
   "source": [
    "#explore first row of dataframe\n",
    "df.iloc[0]"
   ]
  },
  {
   "cell_type": "markdown",
   "metadata": {},
   "source": [
    "### Clean Data\n",
    "\n",
    "The `cleanCorpus` function reduces the text of a transciption to lemmatized terms that are not filler words or are numbers/punctuation. Before running the function, I made a dataframe that contained only the medical specialty categories and the transcription text, in order to decrease the text processing needed to use this data in a model. In the new dataframe, the `transcription` column was replaced with the `cleanCorpus` output."
   ]
  },
  {
   "cell_type": "code",
   "execution_count": 14,
   "metadata": {
    "collapsed": true
   },
   "outputs": [],
   "source": [
    "\"\"\"\n",
    "This function will take in each row of a pandas dataframe column (corpus) that contains each transcription as a string and make the text lowercase, \n",
    "remove punctuation/digits/special characters, convert it into a spaCy object (tokenizing), remove stopwords, and rejoin as a string.\n",
    "The final string product is then returned to the dataframe.\n",
    "\"\"\"\n",
    "\n",
    "#function to lowercase, remove punctuation/digits, tokenize (split into words), and remove stopwords\n",
    "def cleanCorpus(corpus):\n",
    "\n",
    "    #remove punctuation, digits, and non-standard single quotes/apostrophes\n",
    "    rmv = str.maketrans({key: None for key in string.punctuation + string.digits + \"‘’\"})\n",
    "\n",
    "    #make string lowercase                    \n",
    "    lower_str = corpus.translate(rmv).lower() \n",
    "\n",
    "    #make string into a spaCy object\n",
    "    nlpdoc = nlp(lower_str)\n",
    "\n",
    "    #holds tokens that are not stopwords\n",
    "    clean_wordls = []\n",
    "\n",
    "    #each token in the spaCy object\n",
    "    for token in nlpdoc:\n",
    "        \n",
    "        #check to see if lemma of a word is a pronoun\n",
    "        #if true, needs to be in regular text form (.lemma_ doesn't hold word)\n",
    "        if token.lemma_ == '-PRON-':\n",
    "            tknwd = token.text\n",
    "        else:\n",
    "            #lemmatize the word\n",
    "            tknwd = token.lemma_\n",
    "\n",
    "        \n",
    "        #check to see if the token is a stopword\n",
    "        if tknwd in stopwords: pass\n",
    "            \n",
    "        #if word is not a stopword, add to clean words list\n",
    "        else:\n",
    "            clean_wordls.append(tknwd)\n",
    "\n",
    "            \n",
    "    #join list of cleaned words together into one string\n",
    "    clean_str = \" \".join(clean_wordls)  \n",
    "    \n",
    "    #returned output is an item from corpus as a string\n",
    "    return clean_str"
   ]
  },
  {
   "cell_type": "code",
   "execution_count": 15,
   "metadata": {},
   "outputs": [],
   "source": [
    "#make a dataframe that only contains the \"medical_specialty\" and \"trascription\" columns\n",
    "model_df = df[['medical_specialty', 'transcription']]"
   ]
  },
  {
   "cell_type": "code",
   "execution_count": 16,
   "metadata": {},
   "outputs": [],
   "source": [
    "#keep the rows where the \"transcription\" column value is not missing (empty)\n",
    "model_df = model_df.loc[df['transcription'].notnull()]"
   ]
  },
  {
   "cell_type": "code",
   "execution_count": 17,
   "metadata": {},
   "outputs": [],
   "source": [
    "#clean the text in the \"transcription\" column\n",
    "#assign cleaned text data back into the \"transcription\" column\n",
    "model_df['transcription'] = model_df['transcription'].apply(cleanCorpus)"
   ]
  },
  {
   "cell_type": "code",
   "execution_count": 18,
   "metadata": {},
   "outputs": [
    {
     "data": {
      "text/html": [
       "<div>\n",
       "<style scoped>\n",
       "    .dataframe tbody tr th:only-of-type {\n",
       "        vertical-align: middle;\n",
       "    }\n",
       "\n",
       "    .dataframe tbody tr th {\n",
       "        vertical-align: top;\n",
       "    }\n",
       "\n",
       "    .dataframe thead th {\n",
       "        text-align: right;\n",
       "    }\n",
       "</style>\n",
       "<table border=\"1\" class=\"dataframe\">\n",
       "  <thead>\n",
       "    <tr style=\"text-align: right;\">\n",
       "      <th></th>\n",
       "      <th>medical_specialty</th>\n",
       "      <th>transcription</th>\n",
       "    </tr>\n",
       "  </thead>\n",
       "  <tbody>\n",
       "    <tr>\n",
       "      <th>0</th>\n",
       "      <td>Allergy / Immunology</td>\n",
       "      <td>subjective   yearold white female present comp...</td>\n",
       "    </tr>\n",
       "    <tr>\n",
       "      <th>1</th>\n",
       "      <td>Bariatrics</td>\n",
       "      <td>past medical history difficulty climb stair di...</td>\n",
       "    </tr>\n",
       "    <tr>\n",
       "      <th>2</th>\n",
       "      <td>Bariatrics</td>\n",
       "      <td>history present illness   see abc today   plea...</td>\n",
       "    </tr>\n",
       "    <tr>\n",
       "      <th>3</th>\n",
       "      <td>Cardiovascular / Pulmonary</td>\n",
       "      <td>mmode     leave atrial enlargement left atrial...</td>\n",
       "    </tr>\n",
       "    <tr>\n",
       "      <th>4</th>\n",
       "      <td>Cardiovascular / Pulmonary</td>\n",
       "      <td>left ventricular cavity size wall thickness...</td>\n",
       "    </tr>\n",
       "  </tbody>\n",
       "</table>\n",
       "</div>"
      ],
      "text/plain": [
       "             medical_specialty  \\\n",
       "0         Allergy / Immunology   \n",
       "1                   Bariatrics   \n",
       "2                   Bariatrics   \n",
       "3   Cardiovascular / Pulmonary   \n",
       "4   Cardiovascular / Pulmonary   \n",
       "\n",
       "                                       transcription  \n",
       "0  subjective   yearold white female present comp...  \n",
       "1  past medical history difficulty climb stair di...  \n",
       "2  history present illness   see abc today   plea...  \n",
       "3  mmode     leave atrial enlargement left atrial...  \n",
       "4     left ventricular cavity size wall thickness...  "
      ]
     },
     "execution_count": 18,
     "metadata": {},
     "output_type": "execute_result"
    }
   ],
   "source": [
    "#verify the \"transcription\" column data is cleaned\n",
    "model_df.head()"
   ]
  },
  {
   "cell_type": "markdown",
   "metadata": {},
   "source": [
    "### Data Visualization\n",
    "\n",
    "Although this is a medical-based dataset, I wanted to make word clouds for frequently occuring words and co-occuring words (bigrams) to find out if there were any particular terms that are consistent throughout the majority of the transcriptions. "
   ]
  },
  {
   "cell_type": "code",
   "execution_count": 19,
   "metadata": {
    "collapsed": true
   },
   "outputs": [],
   "source": [
    "#make a list out of the \"transcription\" column\n",
    "#each list item is a transcription\n",
    "transcp_ls = list(model_df['transcription'])"
   ]
  },
  {
   "cell_type": "code",
   "execution_count": 20,
   "metadata": {},
   "outputs": [
    {
     "data": {
      "text/plain": [
       "'subjective   yearold white female present complaint allergy   use allergy live seattle think bad   past try claritin zyrtec   work short time seem lose effectiveness   use allegra also   use last summer begin use two week ago   appear work well   use overthecounter spray prescription nasal spray   asthma require daily medication think flare upmedication   medication currently ortho tricyclen allegraallergie   know medicine allergiesobjectivevital   weight   pound blood pressure heent   throat mildly erythematous without exudate   nasal mucosa erythematous swollen   clear drainage see   tms clearneck   supple without adenopathylung   clearassessment   allergic rhinitisplan   try zyrtec instead allegra   another option use loratadine   think prescription coverage may cheap   sample nasonex two spray nostril give three week   prescription write well'"
      ]
     },
     "execution_count": 20,
     "metadata": {},
     "output_type": "execute_result"
    }
   ],
   "source": [
    "#first 5 items in list\n",
    "transcp_ls[0]"
   ]
  },
  {
   "cell_type": "code",
   "execution_count": 21,
   "metadata": {
    "collapsed": true
   },
   "outputs": [],
   "source": [
    "#put all items together into a whole string\n",
    "#whole string is all the transcriptions put together\n",
    "transcp_str = \" \".join(transcp_ls)"
   ]
  },
  {
   "cell_type": "code",
   "execution_count": 22,
   "metadata": {
    "collapsed": true
   },
   "outputs": [],
   "source": [
    "#use word_tokenize function\n",
    "#will convert string into a list\n",
    "#each list item is a token(word)\n",
    "#this list contains all the tokens(words) in the corpus\n",
    "all_tknz = word_tokenize(transcp_str)"
   ]
  },
  {
   "cell_type": "code",
   "execution_count": 23,
   "metadata": {},
   "outputs": [],
   "source": [
    "#make a frequency distribution of all the tokens\n",
    "#convert FreqDist type into a normal python dictionary\n",
    "#need to use for WordCloud function\n",
    "wrdcnt_dict = dict(FreqDist(all_tknz))"
   ]
  },
  {
   "cell_type": "code",
   "execution_count": 24,
   "metadata": {},
   "outputs": [
    {
     "data": {
      "image/png": "[encoded data removed]",
      "text/plain": [
       "<Figure size 432x288 with 1 Axes>"
      ]
     },
     "metadata": {},
     "output_type": "display_data"
    }
   ],
   "source": [
    "#make a word cloud of Top 100 words in the corpus\n",
    "wc = WordCloud(max_words=100).generate_from_frequencies(wrdcnt_dict)\n",
    "plt.imshow(wc, interpolation='bilinear')\n",
    "plt.axis(\"off\")\n",
    "plt.show()"
   ]
  },
  {
   "cell_type": "code",
   "execution_count": 25,
   "metadata": {
    "collapsed": true
   },
   "outputs": [],
   "source": [
    "#create bigrams from each transcription\n",
    "\n",
    "#empty list to hold all bigrams in the corpus\n",
    "all_bgs =[]\n",
    "\n",
    "#each item in transcp_ls is a string\n",
    "for transcription in transcp_ls:\n",
    "    \n",
    "    #create tokens for each transcription\n",
    "    transcp_tknz = word_tokenize(transcription)\n",
    "    \n",
    "    #for each transcription (a list of tokens), make bigrams that exist in transcription\n",
    "    for bigram in ngrams(transcp_tknz, 2):\n",
    "        \n",
    "        #append all bigrams from entire dataset into a list\n",
    "        all_bgs.append(bigram)"
   ]
  },
  {
   "cell_type": "code",
   "execution_count": 26,
   "metadata": {},
   "outputs": [
    {
     "data": {
      "text/plain": [
       "[('subjective', 'yearold'),\n",
       " ('yearold', 'white'),\n",
       " ('white', 'female'),\n",
       " ('female', 'present'),\n",
       " ('present', 'complaint')]"
      ]
     },
     "execution_count": 26,
     "metadata": {},
     "output_type": "execute_result"
    }
   ],
   "source": [
    "#list of all bigrams in dataset\n",
    "all_bgs[:5]"
   ]
  },
  {
   "cell_type": "code",
   "execution_count": 27,
   "metadata": {},
   "outputs": [],
   "source": [
    "#most frequently occuring bigrams in all transcriptions\n",
    "#this is a tuple\n",
    "#first item in tuple is the bigram (as a tuple); second item is the frequency\n",
    "bg_freq_tpl = FreqDist(all_bgs).most_common()"
   ]
  },
  {
   "cell_type": "code",
   "execution_count": 28,
   "metadata": {
    "collapsed": true
   },
   "outputs": [],
   "source": [
    "#empty list to hold bigram and its frequency\n",
    "#will use to make word cloud\n",
    "bgs_str_freq = {}\n",
    "\n",
    "#for each bigram+frequency tuple\n",
    "for bgs_tuple in bg_freq_tpl:\n",
    "    \n",
    "    #index 1 is the frequency\n",
    "    #assign the frequency to variable \"v\"\n",
    "    v = bgs_tuple[1]\n",
    "    \n",
    "    #index 0 is the bigram (as a tuple)\n",
    "    #index 0 of the bigram is the first word; index 1 is the second word\n",
    "    #put the 2 words together as a string with an underscore between them\n",
    "    k = \"_\".join([bgs_tuple[0][0], bgs_tuple[0][1]])\n",
    "    \n",
    "    #add key and value to dictionary\n",
    "    # variable \"k\" (key) is the bigram string; variable \"v\" (value) is the frequency\n",
    "    bgs_str_freq[k] = v"
   ]
  },
  {
   "cell_type": "code",
   "execution_count": 29,
   "metadata": {},
   "outputs": [
    {
     "data": {
      "image/png": "[encoded data removed]",
      "text/plain": [
       "<Figure size 432x288 with 1 Axes>"
      ]
     },
     "metadata": {},
     "output_type": "display_data"
    }
   ],
   "source": [
    "#word cloud of Top 100 bigrams in the corpus\n",
    "wc = WordCloud(max_words=100).generate_from_frequencies(bgs_str_freq)\n",
    "plt.imshow(wc, interpolation='bilinear')\n",
    "plt.axis(\"off\")\n",
    "plt.show()"
   ]
  },
  {
   "cell_type": "markdown",
   "metadata": {},
   "source": [
    "### Topic Modeling\n",
    "\n",
    "The medical specialty category has 40 distinct groups for the types of transcription write-ups, so I wanted to do topic modeling for just 10 groups to see if any of the terms associate with related medical specialty categories would be aggregated in the model. Then after assessing the ouput, I created a frequency distribution for terms that were assigned to a \"dominant\" topic (comparing a term's probability score for each topic determined by the Latent Dirichlet Allocation model). "
   ]
  },
  {
   "cell_type": "code",
   "execution_count": 30,
   "metadata": {},
   "outputs": [],
   "source": [
    "#assign the CountVecrtorizer function to a variable\n",
    "cntvec = CountVectorizer()"
   ]
  },
  {
   "cell_type": "code",
   "execution_count": 31,
   "metadata": {},
   "outputs": [],
   "source": [
    "#transform the \"transcription\" column into a matrix\n",
    "#columns are the words(terms); rows are the transcription indicies\n",
    "transcp_mtx = cntvec.fit_transform(model_df['transcription'])"
   ]
  },
  {
   "cell_type": "code",
   "execution_count": 32,
   "metadata": {},
   "outputs": [
    {
     "data": {
      "text/plain": [
       "(4966, 33357)"
      ]
     },
     "execution_count": 32,
     "metadata": {},
     "output_type": "execute_result"
    }
   ],
   "source": [
    "#rows and columns of matrix\n",
    "transcp_mtx.shape"
   ]
  },
  {
   "cell_type": "code",
   "execution_count": 33,
   "metadata": {},
   "outputs": [],
   "source": [
    "#set the LDA function to a variable\n",
    "#LDA function will make 10 topics of distinguishing information\n",
    "lda = LatentDirichletAllocation(n_components=10)"
   ]
  },
  {
   "cell_type": "code",
   "execution_count": 34,
   "metadata": {},
   "outputs": [],
   "source": [
    "#build the LDA model with the transcription term matrix\n",
    "transc_lda_mtx = lda.fit_transform(transcp_mtx)"
   ]
  },
  {
   "cell_type": "code",
   "execution_count": 35,
   "metadata": {},
   "outputs": [
    {
     "data": {
      "text/plain": [
       "10"
      ]
     },
     "execution_count": 35,
     "metadata": {},
     "output_type": "execute_result"
    }
   ],
   "source": [
    "#verify number of topics created by LDA model\n",
    "len(lda.components_)"
   ]
  },
  {
   "cell_type": "code",
   "execution_count": 36,
   "metadata": {},
   "outputs": [],
   "source": [
    "#get each topic group\n",
    "#topics is a list; each item in list is the words in the topic\n",
    "topics = lda.components_\n",
    "\n",
    "#get the word(term) names; find string value of word by its index\n",
    "term_model = cntvec.get_feature_names()"
   ]
  },
  {
   "cell_type": "code",
   "execution_count": 37,
   "metadata": {},
   "outputs": [
    {
     "name": "stdout",
     "output_type": "stream",
     "text": [
      "Topic 0:\n",
      "\n",
      "kidney within mass image exam ct evidence see right normal\n",
      "\n",
      "\n",
      "Topic 1:\n",
      "\n",
      "back time history extremity low patient normal left pain right\n",
      "\n",
      "\n",
      "Topic 2:\n",
      "\n",
      "area suture incision procedure skin place use left patient right\n",
      "\n",
      "\n",
      "Topic 3:\n",
      "\n",
      "room port use right diagnosis remove tube place procedure patient\n",
      "\n",
      "\n",
      "Topic 4:\n",
      "\n",
      "state year po pain time daily report history mg patient\n",
      "\n",
      "\n",
      "Topic 5:\n",
      "\n",
      "mg present without well day blood pain normal history patient\n",
      "\n",
      "\n",
      "Topic 6:\n",
      "\n",
      "position well right remove diagnosis cc use procedure place patient\n",
      "\n",
      "\n",
      "Topic 7:\n",
      "\n",
      "normal vein femoral patient catheter leave coronary left right artery\n",
      "\n",
      "\n",
      "Topic 8:\n",
      "\n",
      "bladder right skin close vicryl incision suture place use patient\n",
      "\n",
      "\n",
      "Topic 9:\n",
      "\n",
      "foot perform lateral well medial incision place right use patient\n",
      "\n",
      "\n"
     ]
    }
   ],
   "source": [
    "#get each topic and its index number\n",
    "for idx, topic in enumerate(topics):\n",
    "    \n",
    "    #get top 10 word index numbers for each topic\n",
    "    #topwords is an array\n",
    "    topwords = topic.argsort()[-10:]\n",
    "    \n",
    "    #print out topic number\n",
    "    print(f\"Topic {idx}:\\n\")\n",
    "    \n",
    "    #get the string value of a term based on its index position in the CountVectorizer model\n",
    "    topic_word_ls = [term_model[feature_num] for feature_num in topwords]\n",
    "    \n",
    "    #put list of words together as one whole string\n",
    "    topic_word_str = \" \".join(topic_word_ls)\n",
    "    \n",
    "    #show the words for the topic\n",
    "    print(topic_word_str)\n",
    "    \n",
    "    #add newline to make space for next set of topic words\n",
    "    print(\"\\n\")"
   ]
  },
  {
   "cell_type": "code",
   "execution_count": 38,
   "metadata": {},
   "outputs": [],
   "source": [
    "# column names\n",
    "topicnames = [f\"Topic {idx}\" for idx, topic in enumerate(topics)]\n",
    "\n",
    "# index names\n",
    "transcrp_names = [f\"Transcription {i}\" for i in range(len(model_df))]\n",
    "\n",
    "# Make the pandas dataframe\n",
    "#round probabilities to two decimal spaces\n",
    "df_document_topic = pd.DataFrame(np.round(transc_lda_mtx, 2), columns=topicnames, index=transcrp_names)\n",
    "\n",
    "# Get dominant topic for each document\n",
    "#\"dominate topic\" means whichever topic a term had the highest probability for\n",
    "dominant_topic = np.argmax(df_document_topic.values, axis=1)\n",
    "df_document_topic['dominant_topic'] = dominant_topic"
   ]
  },
  {
   "cell_type": "code",
   "execution_count": 39,
   "metadata": {},
   "outputs": [
    {
     "data": {
      "text/html": [
       "<div>\n",
       "<style scoped>\n",
       "    .dataframe tbody tr th:only-of-type {\n",
       "        vertical-align: middle;\n",
       "    }\n",
       "\n",
       "    .dataframe tbody tr th {\n",
       "        vertical-align: top;\n",
       "    }\n",
       "\n",
       "    .dataframe thead th {\n",
       "        text-align: right;\n",
       "    }\n",
       "</style>\n",
       "<table border=\"1\" class=\"dataframe\">\n",
       "  <thead>\n",
       "    <tr style=\"text-align: right;\">\n",
       "      <th></th>\n",
       "      <th>Topic Num</th>\n",
       "      <th>Num Documents</th>\n",
       "    </tr>\n",
       "  </thead>\n",
       "  <tbody>\n",
       "    <tr>\n",
       "      <th>0</th>\n",
       "      <td>5</td>\n",
       "      <td>1398</td>\n",
       "    </tr>\n",
       "    <tr>\n",
       "      <th>1</th>\n",
       "      <td>1</td>\n",
       "      <td>515</td>\n",
       "    </tr>\n",
       "    <tr>\n",
       "      <th>2</th>\n",
       "      <td>9</td>\n",
       "      <td>508</td>\n",
       "    </tr>\n",
       "    <tr>\n",
       "      <th>3</th>\n",
       "      <td>6</td>\n",
       "      <td>505</td>\n",
       "    </tr>\n",
       "    <tr>\n",
       "      <th>4</th>\n",
       "      <td>8</td>\n",
       "      <td>437</td>\n",
       "    </tr>\n",
       "    <tr>\n",
       "      <th>5</th>\n",
       "      <td>3</td>\n",
       "      <td>381</td>\n",
       "    </tr>\n",
       "    <tr>\n",
       "      <th>6</th>\n",
       "      <td>2</td>\n",
       "      <td>374</td>\n",
       "    </tr>\n",
       "    <tr>\n",
       "      <th>7</th>\n",
       "      <td>4</td>\n",
       "      <td>313</td>\n",
       "    </tr>\n",
       "    <tr>\n",
       "      <th>8</th>\n",
       "      <td>7</td>\n",
       "      <td>290</td>\n",
       "    </tr>\n",
       "    <tr>\n",
       "      <th>9</th>\n",
       "      <td>0</td>\n",
       "      <td>245</td>\n",
       "    </tr>\n",
       "  </tbody>\n",
       "</table>\n",
       "</div>"
      ],
      "text/plain": [
       "   Topic Num  Num Documents\n",
       "0          5           1398\n",
       "1          1            515\n",
       "2          9            508\n",
       "3          6            505\n",
       "4          8            437\n",
       "5          3            381\n",
       "6          2            374\n",
       "7          4            313\n",
       "8          7            290\n",
       "9          0            245"
      ]
     },
     "execution_count": 39,
     "metadata": {},
     "output_type": "execute_result"
    }
   ],
   "source": [
    "#make a dataframe from the frequency count of number of transcriptions that are in a particular dominant topic\n",
    "df_topic_distribution = df_document_topic['dominant_topic'].value_counts().reset_index(name=\"Num Transcriptions\")\n",
    "\n",
    "#rename columns\n",
    "df_topic_distribution.columns = ['Topic Num', 'Num Documents']\n",
    "\n",
    "#show dataframe\n",
    "df_topic_distribution"
   ]
  },
  {
   "cell_type": "code",
   "execution_count": 40,
   "metadata": {},
   "outputs": [
    {
     "data": {
      "text/plain": [
       "<matplotlib.axes._subplots.AxesSubplot at 0x2103c93ac50>"
      ]
     },
     "execution_count": 40,
     "metadata": {},
     "output_type": "execute_result"
    },
    {
     "data": {
      "image/png": "[encoded data removed]",
      "text/plain": [
       "<Figure size 432x288 with 1 Axes>"
      ]
     },
     "metadata": {},
     "output_type": "display_data"
    }
   ],
   "source": [
    "#frequency of transcriptions classified with most relevant topic (by highest probability)\n",
    "sns.barplot(x='Topic Num', y='Num Documents', data=df_topic_distribution)"
   ]
  },
  {
   "cell_type": "markdown",
   "metadata": {},
   "source": [
    "### Predictive Modeling\n",
    "\n",
    "In order to predict the medical specialty categories, I had to transform the target variable (`medical_specialty`) into numerical values. Then after adding the numerical representatio of the target groups to the dataframe, I created training and test data for the Multinomial Naive Bayes classification model. I got the model performance results by acciracy score and also evaluating the proportion of Type I/Type II errors by category in the classsification report."
   ]
  },
  {
   "cell_type": "code",
   "execution_count": 41,
   "metadata": {
    "collapsed": true
   },
   "outputs": [],
   "source": [
    "#put each medical speciality category name into a list\n",
    "cat_names = list(model_df['medical_specialty'].unique())"
   ]
  },
  {
   "cell_type": "code",
   "execution_count": 42,
   "metadata": {
    "collapsed": true
   },
   "outputs": [],
   "source": [
    "#use medical specialty category name index positions to create a dictionary\n",
    "\n",
    "target_val = {}\n",
    "\n",
    "#for each category name and its index position number\n",
    "for idx, category in enumerate(cat_names):\n",
    "    \n",
    "    #dict_key will be the category, dict_value is the index position\n",
    "    target_val[category] = idx "
   ]
  },
  {
   "cell_type": "code",
   "execution_count": 43,
   "metadata": {},
   "outputs": [
    {
     "data": {
      "text/plain": [
       "{' Allergy / Immunology': 0,\n",
       " ' Autopsy': 39,\n",
       " ' Bariatrics': 1,\n",
       " ' Cardiovascular / Pulmonary': 2,\n",
       " ' Chiropractic': 38,\n",
       " ' Consult - History and Phy.': 37,\n",
       " ' Cosmetic / Plastic Surgery': 36,\n",
       " ' Dentistry': 4,\n",
       " ' Dermatology': 35,\n",
       " ' Diets and Nutritions': 34,\n",
       " ' Discharge Summary': 33,\n",
       " ' ENT - Otolaryngology': 30,\n",
       " ' Emergency Room Reports': 32,\n",
       " ' Endocrinology': 31,\n",
       " ' Gastroenterology': 29,\n",
       " ' General Medicine': 6,\n",
       " ' Hematology - Oncology': 28,\n",
       " ' Hospice - Palliative Care': 27,\n",
       " ' IME-QME-Work Comp etc.': 26,\n",
       " ' Lab Medicine - Pathology': 25,\n",
       " ' Letters': 24,\n",
       " ' Nephrology': 23,\n",
       " ' Neurology': 3,\n",
       " ' Neurosurgery': 22,\n",
       " ' Obstetrics / Gynecology': 21,\n",
       " ' Office Notes': 20,\n",
       " ' Ophthalmology': 19,\n",
       " ' Orthopedic': 18,\n",
       " ' Pain Management': 17,\n",
       " ' Pediatrics - Neonatal': 16,\n",
       " ' Physical Medicine - Rehab': 15,\n",
       " ' Podiatry': 14,\n",
       " ' Psychiatry / Psychology': 13,\n",
       " ' Radiology': 12,\n",
       " ' Rheumatology': 11,\n",
       " ' SOAP / Chart / Progress Notes': 9,\n",
       " ' Sleep Medicine': 10,\n",
       " ' Speech - Language': 8,\n",
       " ' Surgery': 7,\n",
       " ' Urology': 5}"
      ]
     },
     "execution_count": 43,
     "metadata": {},
     "output_type": "execute_result"
    }
   ],
   "source": [
    "#completed dictionary with category, index pairs\n",
    "target_val"
   ]
  },
  {
   "cell_type": "code",
   "execution_count": 44,
   "metadata": {
    "collapsed": true
   },
   "outputs": [],
   "source": [
    "#create column to hold the medical specialty category numbers\n",
    "#numbers will be used to train the model (since model can't take string values)\n",
    "#dictionary will look for medical specialty category then assign 'target' column the dict_val\n",
    "model_df['target'] = model_df['medical_specialty'].map(target_val)"
   ]
  },
  {
   "cell_type": "code",
   "execution_count": 45,
   "metadata": {},
   "outputs": [
    {
     "data": {
      "text/html": [
       "<div>\n",
       "<style scoped>\n",
       "    .dataframe tbody tr th:only-of-type {\n",
       "        vertical-align: middle;\n",
       "    }\n",
       "\n",
       "    .dataframe tbody tr th {\n",
       "        vertical-align: top;\n",
       "    }\n",
       "\n",
       "    .dataframe thead th {\n",
       "        text-align: right;\n",
       "    }\n",
       "</style>\n",
       "<table border=\"1\" class=\"dataframe\">\n",
       "  <thead>\n",
       "    <tr style=\"text-align: right;\">\n",
       "      <th></th>\n",
       "      <th>medical_specialty</th>\n",
       "      <th>transcription</th>\n",
       "      <th>target</th>\n",
       "    </tr>\n",
       "  </thead>\n",
       "  <tbody>\n",
       "    <tr>\n",
       "      <th>0</th>\n",
       "      <td>Allergy / Immunology</td>\n",
       "      <td>subjective   yearold white female present comp...</td>\n",
       "      <td>0</td>\n",
       "    </tr>\n",
       "    <tr>\n",
       "      <th>1</th>\n",
       "      <td>Bariatrics</td>\n",
       "      <td>past medical history difficulty climb stair di...</td>\n",
       "      <td>1</td>\n",
       "    </tr>\n",
       "    <tr>\n",
       "      <th>2</th>\n",
       "      <td>Bariatrics</td>\n",
       "      <td>history present illness   see abc today   plea...</td>\n",
       "      <td>1</td>\n",
       "    </tr>\n",
       "    <tr>\n",
       "      <th>3</th>\n",
       "      <td>Cardiovascular / Pulmonary</td>\n",
       "      <td>mmode     leave atrial enlargement left atrial...</td>\n",
       "      <td>2</td>\n",
       "    </tr>\n",
       "    <tr>\n",
       "      <th>4</th>\n",
       "      <td>Cardiovascular / Pulmonary</td>\n",
       "      <td>left ventricular cavity size wall thickness...</td>\n",
       "      <td>2</td>\n",
       "    </tr>\n",
       "  </tbody>\n",
       "</table>\n",
       "</div>"
      ],
      "text/plain": [
       "             medical_specialty  \\\n",
       "0         Allergy / Immunology   \n",
       "1                   Bariatrics   \n",
       "2                   Bariatrics   \n",
       "3   Cardiovascular / Pulmonary   \n",
       "4   Cardiovascular / Pulmonary   \n",
       "\n",
       "                                       transcription  target  \n",
       "0  subjective   yearold white female present comp...       0  \n",
       "1  past medical history difficulty climb stair di...       1  \n",
       "2  history present illness   see abc today   plea...       1  \n",
       "3  mmode     leave atrial enlargement left atrial...       2  \n",
       "4     left ventricular cavity size wall thickness...       2  "
      ]
     },
     "execution_count": 45,
     "metadata": {},
     "output_type": "execute_result"
    }
   ],
   "source": [
    "#verify first 5 rows of dataframe w/ new column\n",
    "model_df.head()"
   ]
  },
  {
   "cell_type": "code",
   "execution_count": 46,
   "metadata": {},
   "outputs": [],
   "source": [
    "#set the \"transcription\" column as a Series to the variable X\n",
    "X = model_df['transcription']\n",
    "\n",
    "#set the value that will be predicted (medical specialty category numbers) to a variable\n",
    "y = model_df['target']"
   ]
  },
  {
   "cell_type": "code",
   "execution_count": 47,
   "metadata": {},
   "outputs": [
    {
     "data": {
      "text/plain": [
       "0    subjective   yearold white female present comp...\n",
       "1    past medical history difficulty climb stair di...\n",
       "2    history present illness   see abc today   plea...\n",
       "3    mmode     leave atrial enlargement left atrial...\n",
       "4       left ventricular cavity size wall thickness...\n",
       "Name: transcription, dtype: object"
      ]
     },
     "execution_count": 47,
     "metadata": {},
     "output_type": "execute_result"
    }
   ],
   "source": [
    "#verify first 5 rows in X\n",
    "X.head()"
   ]
  },
  {
   "cell_type": "code",
   "execution_count": 48,
   "metadata": {
    "collapsed": true
   },
   "outputs": [],
   "source": [
    "#make training and test sets to use for predictive model\n",
    "#training set=60%, test set=40%\n",
    "#X is \"title\", y is \"target\"\n",
    "X_train, X_test, y_train, y_test = train_test_split(X, y, random_state=90, test_size=0.4)"
   ]
  },
  {
   "cell_type": "code",
   "execution_count": 49,
   "metadata": {},
   "outputs": [
    {
     "name": "stdout",
     "output_type": "stream",
     "text": [
      "(2979,)\n",
      "(1987,)\n"
     ]
    }
   ],
   "source": [
    "#verify number of rows in training and test dataset\n",
    "print(X_train.shape)\n",
    "print(X_test.shape)"
   ]
  },
  {
   "cell_type": "code",
   "execution_count": 50,
   "metadata": {
    "collapsed": true
   },
   "outputs": [],
   "source": [
    "#set TF-IDF vectorizer fucntion to a variable\n",
    "tfidf_vec = TfidfVectorizer()"
   ]
  },
  {
   "cell_type": "code",
   "execution_count": 51,
   "metadata": {
    "collapsed": true
   },
   "outputs": [],
   "source": [
    "#turn text data into a TF-IDF matrix\n",
    "#each column is a \"term\"(word)\n",
    "#each row is a transcription\n",
    "X_train_mtx = tfidf_vec.fit_transform(X_train)"
   ]
  },
  {
   "cell_type": "code",
   "execution_count": 52,
   "metadata": {},
   "outputs": [
    {
     "data": {
      "text/plain": [
       "(2979, 30150)"
      ]
     },
     "execution_count": 52,
     "metadata": {},
     "output_type": "execute_result"
    }
   ],
   "source": [
    "#2979 rows, 30152 columns\n",
    "X_train_mtx.shape"
   ]
  },
  {
   "cell_type": "code",
   "execution_count": 53,
   "metadata": {},
   "outputs": [],
   "source": [
    "#set Multinomial Naive Bayes function to a variable\n",
    "mnb = MultinomialNB()"
   ]
  },
  {
   "cell_type": "code",
   "execution_count": 54,
   "metadata": {},
   "outputs": [
    {
     "data": {
      "text/plain": [
       "MultinomialNB(alpha=1.0, class_prior=None, fit_prior=True)"
      ]
     },
     "execution_count": 54,
     "metadata": {},
     "output_type": "execute_result"
    }
   ],
   "source": [
    "#build model using training dataset\n",
    "#teach model the pattern/trends in the data\n",
    "mnb.fit(X_train_mtx, y_train)"
   ]
  },
  {
   "cell_type": "code",
   "execution_count": 55,
   "metadata": {},
   "outputs": [
    {
     "data": {
      "text/plain": [
       "0.32863376972138303"
      ]
     },
     "execution_count": 55,
     "metadata": {},
     "output_type": "execute_result"
    }
   ],
   "source": [
    "#accuracy score of how well model can predict training data it learned from\n",
    "mnb.score(X_train_mtx, y_train)"
   ]
  },
  {
   "cell_type": "code",
   "execution_count": 56,
   "metadata": {
    "collapsed": true
   },
   "outputs": [],
   "source": [
    "#turn the test data into a TF-IDF matrix\n",
    "X_test_mtx = tfidf_vec.transform(X_test)"
   ]
  },
  {
   "cell_type": "code",
   "execution_count": 57,
   "metadata": {
    "collapsed": true
   },
   "outputs": [],
   "source": [
    "#feed the test data into the model\n",
    "#put predictive output into variable \"y_predict\"\n",
    "y_predict = mnb.predict(X_test_mtx)"
   ]
  },
  {
   "cell_type": "code",
   "execution_count": 58,
   "metadata": {},
   "outputs": [
    {
     "data": {
      "text/plain": [
       "0.3256165072974333"
      ]
     },
     "execution_count": 58,
     "metadata": {},
     "output_type": "execute_result"
    }
   ],
   "source": [
    "#model accuracy score on the test data\n",
    "mnb.score(X_test_mtx, y_test)"
   ]
  },
  {
   "cell_type": "code",
   "execution_count": 59,
   "metadata": {},
   "outputs": [
    {
     "name": "stderr",
     "output_type": "stream",
     "text": [
      "C:\\Users\\Nisha\\Anaconda3\\lib\\site-packages\\sklearn\\metrics\\classification.py:1143: UndefinedMetricWarning: Precision and F-score are ill-defined and being set to 0.0 in labels with no predicted samples.\n",
      "  'precision', 'predicted', average, warn_for)\n",
      "C:\\Users\\Nisha\\Anaconda3\\lib\\site-packages\\sklearn\\metrics\\classification.py:1143: UndefinedMetricWarning: Precision and F-score are ill-defined and being set to 0.0 in labels with no predicted samples.\n",
      "  'precision', 'predicted', average, warn_for)\n",
      "C:\\Users\\Nisha\\Anaconda3\\lib\\site-packages\\sklearn\\metrics\\classification.py:1143: UndefinedMetricWarning: Precision and F-score are ill-defined and being set to 0.0 in labels with no predicted samples.\n",
      "  'precision', 'predicted', average, warn_for)\n"
     ]
    },
    {
     "name": "stdout",
     "output_type": "stream",
     "text": [
      "                                precision    recall  f1-score   support\n",
      "\n",
      "          Allergy / Immunology       0.00      0.00      0.00         3\n",
      "                    Bariatrics       0.00      0.00      0.00         9\n",
      "    Cardiovascular / Pulmonary       0.50      0.12      0.20       146\n",
      "                     Neurology       0.25      0.01      0.02        88\n",
      "                     Dentistry       0.00      0.00      0.00        12\n",
      "                       Urology       0.00      0.00      0.00        64\n",
      "              General Medicine       0.00      0.00      0.00       107\n",
      "                       Surgery       0.36      1.00      0.53       442\n",
      "             Speech - Language       0.00      0.00      0.00         2\n",
      " SOAP / Chart / Progress Notes       0.00      0.00      0.00        72\n",
      "                Sleep Medicine       0.00      0.00      0.00         4\n",
      "                  Rheumatology       0.00      0.00      0.00         3\n",
      "                     Radiology       0.00      0.00      0.00       124\n",
      "       Psychiatry / Psychology       0.00      0.00      0.00        21\n",
      "                      Podiatry       0.00      0.00      0.00        17\n",
      "     Physical Medicine - Rehab       0.00      0.00      0.00         9\n",
      "         Pediatrics - Neonatal       0.00      0.00      0.00        24\n",
      "               Pain Management       0.00      0.00      0.00        20\n",
      "                    Orthopedic       0.00      0.00      0.00       130\n",
      "                 Ophthalmology       0.00      0.00      0.00        28\n",
      "                  Office Notes       0.00      0.00      0.00        20\n",
      "       Obstetrics / Gynecology       0.00      0.00      0.00        76\n",
      "                  Neurosurgery       0.00      0.00      0.00        37\n",
      "                    Nephrology       0.00      0.00      0.00        34\n",
      "                       Letters       0.00      0.00      0.00         9\n",
      "      Lab Medicine - Pathology       0.00      0.00      0.00         2\n",
      "        IME-QME-Work Comp etc.       0.00      0.00      0.00         9\n",
      "     Hospice - Palliative Care       0.00      0.00      0.00         3\n",
      "         Hematology - Oncology       0.00      0.00      0.00        40\n",
      "              Gastroenterology       0.00      0.00      0.00        84\n",
      "          ENT - Otolaryngology       0.00      0.00      0.00        31\n",
      "                 Endocrinology       0.00      0.00      0.00         5\n",
      "        Emergency Room Reports       0.00      0.00      0.00        30\n",
      "             Discharge Summary       0.00      0.00      0.00        38\n",
      "          Diets and Nutritions       0.00      0.00      0.00         4\n",
      "                   Dermatology       0.00      0.00      0.00        10\n",
      "    Cosmetic / Plastic Surgery       0.00      0.00      0.00        13\n",
      "    Consult - History and Phy.       0.25      0.89      0.40       208\n",
      "                  Chiropractic       0.00      0.00      0.00         4\n",
      "                       Autopsy       0.00      0.00      0.00         5\n",
      "\n",
      "                     micro avg       0.33      0.33      0.33      1987\n",
      "                     macro avg       0.03      0.05      0.03      1987\n",
      "                  weighted avg       0.16      0.33      0.18      1987\n",
      "\n"
     ]
    }
   ],
   "source": [
    "#predictive scores from decision tree model by category\n",
    "print(classification_report(y_test, y_predict, target_names=cat_names))"
   ]
  },
  {
   "cell_type": "markdown",
   "metadata": {},
   "source": [
    "## Conclusion:\n",
    "\n",
    "In conducting the EDA for this dataset, I did not find any surprising results for the frequency of unigrams. The word \"patient\" was mentioned the most throughout the corpus but it is to be expected since transcription write-ups are usually about the medical conditions of a patient and any other follow-on notes that were made at other medical appointments. However, the bigram word cloud was far more interesting because terms such as \"preooperative diagnosis\", \"operating room\", \"incision make\", \"preppe drape\", and \"procedure well\" were prominent and led me to think that many of the medical specialty categories have write-ups containing information about a patient's surgery (pre- and post-surgery), and is not only limited to being mentioned within the \"Surgery\" classified transcriptions. Other bigram phrases like \"patient years old\" and \"medical history\" were typical recorded information.\n",
    "\n",
    "From the topic modeling analysis, the results of each topic formed by Latent Dirichlet Allocation (LDA) mostly contained words related to surgeries but the distinguishing factors were the body part/region that the surgery was conducted on. Topics 7, 8, and 9 seem to refer to hip (femoral), bladder, and feet surgeries, respectively; topics 4-6 describe either post-surgery recovery information and/or information about medicine patients are prescribed to take, either from prexisting conditions or as part of post-surgery recovery. Topics 0 and 1 look like pre-surgery diagnostic information, or maybe even information written during an initial appointment that led to a diagnosis of a condition. In the dominant document distribution, topic 5 had the most number of transriptions that had the highest probability value from the LDA model. The words are mostly generic, such as \"mg\" (for miligrams of medicine dosage), \"blood\", \"pain\", \"normal\" and \"history\" which is standard information across all medical specialty categories when assessing a patient's issue/illness. \n",
    "\n",
    "The results of the Multinomial Naive Bayes classification model were consistent across the training and testing sets (both performing at a ~33% accuracy rate), despite being skewed towards predictions for categories that were highly represented in the original dataset. The model had the best precision score for the \"Cardiovascular/Pulmonary\" category, followed by \"Surgery\", \"Neurology\", and \"Consult - History and Phy.\", however it was surprising to see a high recall score for \"Consult - History and Phy.\" (89%). This indiciates that out of all the data points the model predicted to be within this category, 89% of those results were actually correct (true positives) which means that there must be very distinctive words/features about the transcriptions in this category that do not appear in others or have much lower frequency or relevance. It may be difficult to improve the model's results for future testing because many of the medical specialty categories have overlap of descriptive terms, so one solution could be to remove common medical terms (filler words specifically within this industry) that had the most appearance in the word cloud and then see if the model can pick up on more unique word trends."
   ]
  },
  {
   "cell_type": "markdown",
   "metadata": {},
   "source": [
    "### References:\n",
    "\n",
    "Boyle, T. (2018, October 15). Medical Transcriptions. Retrieved from https://www.kaggle.com/tboyle10/medicaltranscriptions/metadata\n",
    "\n",
    "Bengfort, B., Bilbro, R., & Ojeda, T. (2018). *Chapter 6: Clustering for Text Similarity (pp.111-114)*. Sebastopol, CA: OReilly Media.\n",
    "\n",
    "LDA - How to grid search best topic models? (with examples in python). (2018, May 07). Retrieved from https://www.machinelearningplus.com/nlp/topic-modeling-python-sklearn-examples/"
   ]
  }
 ],
 "metadata": {
  "kernelspec": {
   "display_name": "Python 3",
   "language": "python",
   "name": "python3"
  },
  "language_info": {
   "codemirror_mode": {
    "name": "ipython",
    "version": 3
   },
   "file_extension": ".py",
   "mimetype": "text/x-python",
   "name": "python",
   "nbconvert_exporter": "python",
   "pygments_lexer": "ipython3",
   "version": "3.6.7"
  }
 },
 "nbformat": 4,
 "nbformat_minor": 2
}
